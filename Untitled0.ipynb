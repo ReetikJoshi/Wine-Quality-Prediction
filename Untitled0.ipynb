{
  "nbformat": 4,
  "nbformat_minor": 0,
  "metadata": {
    "colab": {
      "name": "Untitled0.ipynb",
      "version": "0.3.2",
      "provenance": [],
      "collapsed_sections": []
    },
    "kernelspec": {
      "name": "python3",
      "display_name": "Python 3"
    },
    "accelerator": "GPU"
  },
  "cells": [
    {
      "cell_type": "code",
      "metadata": {
        "id": "3K0rfcrw3lkL",
        "colab_type": "code",
        "colab": {}
      },
      "source": [
        ""
      ],
      "execution_count": 0,
      "outputs": []
    },
    {
      "cell_type": "code",
      "metadata": {
        "id": "OlQAu9RJ998d",
        "colab_type": "code",
        "outputId": "06223fcf-84c7-41e7-d950-af80670c3823",
        "colab": {
          "base_uri": "https://localhost:8080/",
          "height": 34
        }
      },
      "source": [
        "!git clone https://github.com/aNonY-mousx/svm.git"
      ],
      "execution_count": 1,
      "outputs": [
        {
          "output_type": "stream",
          "text": [
            "fatal: destination path 'svm' already exists and is not an empty directory.\n"
          ],
          "name": "stdout"
        }
      ]
    },
    {
      "cell_type": "code",
      "metadata": {
        "id": "O5yEfK9d-FCA",
        "colab_type": "code",
        "outputId": "344467ce-82da-4052-8f28-fb85bc62d0fe",
        "colab": {
          "base_uri": "https://localhost:8080/",
          "height": 51
        }
      },
      "source": [
        "\n",
        "!ls svm"
      ],
      "execution_count": 2,
      "outputs": [
        {
          "output_type": "stream",
          "text": [
            " SSVM.ipynb\t\t\t\t        winequalityPrediction.ipynb\n",
            "'SVMTwoClassOnly(BinaryClassification).ipynb'   winequality-white.csv\n"
          ],
          "name": "stdout"
        }
      ]
    },
    {
      "cell_type": "code",
      "metadata": {
        "id": "3bnJNAf6-OUh",
        "colab_type": "code",
        "colab": {}
      },
      "source": [
        "\n",
        "class SMOModel:\n",
        "    \"\"\"Container object for the model used for sequential minimal optimization.\"\"\"\n",
        "    \n",
        "    def __init__(self, X, y, C, kernel, alphas, b, errors):\n",
        "        self.X = X               # training data vector\n",
        "        self.y = y               # class label vector\n",
        "        self.C = C               # regularization parameter\n",
        "        self.kernel = kernel     # kernel function\n",
        "        self.alphas = alphas     # lagrange multiplier vector\n",
        "        self.b = b               # scalar bias term\n",
        "        self.errors = errors     # error cache\n",
        "        self._obj = []           # record of objective function value\n",
        "        self.m = len(self.X)     # store size of training set"
      ],
      "execution_count": 0,
      "outputs": []
    },
    {
      "cell_type": "code",
      "metadata": {
        "id": "lNFW8slaK0pA",
        "colab_type": "code",
        "colab": {}
      },
      "source": [
        "\n"
      ],
      "execution_count": 0,
      "outputs": []
    },
    {
      "cell_type": "code",
      "metadata": {
        "id": "Yvr5eLq6RdTy",
        "colab_type": "code",
        "colab": {}
      },
      "source": [
        ""
      ],
      "execution_count": 0,
      "outputs": []
    },
    {
      "cell_type": "code",
      "metadata": {
        "id": "80FYY0lcRdcS",
        "colab_type": "code",
        "colab": {}
      },
      "source": [
        ""
      ],
      "execution_count": 0,
      "outputs": []
    },
    {
      "cell_type": "code",
      "metadata": {
        "id": "9UU7jIxR2XYt",
        "colab_type": "code",
        "colab": {}
      },
      "source": [
        ""
      ],
      "execution_count": 0,
      "outputs": []
    },
    {
      "cell_type": "code",
      "metadata": {
        "id": "xs8Oql38_RTA",
        "colab_type": "code",
        "colab": {}
      },
      "source": [
        "\n"
      ],
      "execution_count": 0,
      "outputs": []
    },
    {
      "cell_type": "code",
      "metadata": {
        "id": "N_cQ6JR6_Ude",
        "colab_type": "code",
        "colab": {}
      },
      "source": [
        "def linear_kernel(x, y, b=1):\n",
        "    \"\"\"Returns the linear combination of arrays `x` and `y` with\n",
        "    the optional bias term `b` (set to 1 by default).\"\"\"\n",
        "    \n",
        "    return np.dot(x,y.T) + b"
      ],
      "execution_count": 0,
      "outputs": []
    },
    {
      "cell_type": "code",
      "metadata": {
        "id": "xrWDv49U_d2U",
        "colab_type": "code",
        "colab": {}
      },
      "source": [
        "\n",
        "\n",
        "\n",
        "\n",
        "\n",
        "\n",
        "# Objective function to optimize\n",
        "\n",
        "def objective_function(alphas, target, kernel, X_train):\n",
        "    \"\"\"Returns the SVM objective function based in the input model defined by:\n",
        "    `alphas`: vector of Lagrange multipliers\n",
        "    `target`: vector of class labels (-1 or 1) for training data\n",
        "    `kernel`: kernel function\n",
        "    `X_train`: training data for model.\"\"\"\n",
        "    \n",
        "    return np.sum(alphas) - 0.5 * np.sum(target * target * kernel(X_train, X_train) * alphas * alphas)\n",
        "\n",
        "\n",
        "# Decision function\n",
        "\n",
        "def decision_function(alphas, target, kernel, X_train, x_test, b):\n",
        "    \"\"\"Applies the SVM decision function to the input feature vectors in `x_test`.\"\"\"\n",
        "    \n",
        "    result = np.dot((alphas*target),kernel(X_train, x_test))-b\n",
        "    return result"
      ],
      "execution_count": 0,
      "outputs": []
    },
    {
      "cell_type": "code",
      "metadata": {
        "id": "-BHUvPag_jg3",
        "colab_type": "code",
        "colab": {}
      },
      "source": [
        "def take_step(i1, i2, model):\n",
        "    \n",
        "    # Skip if chosen alphas are the same\n",
        "    if i1 == i2:\n",
        "        return 0, model\n",
        "    \n",
        "    alph1 = model.alphas[i1]\n",
        "    alph2 = model.alphas[i2]\n",
        "    y1 = model.y[i1]\n",
        "    y2 = model.y[i2]\n",
        "    E1 = model.errors[i1]\n",
        "    E2 = model.errors[i2]\n",
        "    s = y1 * y2\n",
        "    \n",
        "    # Compute L & H, the bounds on new possible alpha values\n",
        "    if (y1 != y2):\n",
        "        L = max(0, alph2 - alph1)\n",
        "        H = min(model.C, model.C + alph2 - alph1)\n",
        "    elif (y1 == y2):\n",
        "        L = max(0, alph1 + alph2 - model.C)\n",
        "        H = min(model.C, alph1 + alph2)\n",
        "    if (L == H):\n",
        "        return 0, model\n",
        "\n",
        "    # Compute kernel & 2nd derivative eta\n",
        "    k11 = model.kernel(model.X[i1], model.X[i1])\n",
        "    k12 = model.kernel(model.X[i1], model.X[i2])\n",
        "    k22 = model.kernel(model.X[i2], model.X[i2])\n",
        "    eta = 2 * k12 - k11 - k22\n",
        "    \n",
        "    # Compute new alpha 2 (a2) if eta is negative\n",
        "    if (eta < 0):\n",
        "        a2 = alph2 - y2 * (E1 - E2) / eta\n",
        "        # Clip a2 based on bounds L & H\n",
        "        if L < a2 < H:\n",
        "            a2 = a2\n",
        "        elif (a2 <= L):\n",
        "            a2 = L\n",
        "        elif (a2 >= H):\n",
        "            a2 = H\n",
        "            \n",
        "    # If eta is non-negative, move new a2 to bound with greater objective function value\n",
        "    else:\n",
        "        alphas_adj = model.alphas.copy()\n",
        "        alphas_adj[i2] = L\n",
        "        # objective function output with a2 = L\n",
        "        Lobj = objective_function(alphas_adj, model.y, model.kernel, model.X) \n",
        "        alphas_adj[i2] = H\n",
        "        # objective function output with a2 = H\n",
        "        Hobj = objective_function(alphas_adj, model.y, model.kernel, model.X)\n",
        "        if Lobj > (Hobj + eps):\n",
        "            a2 = L\n",
        "        elif Lobj < (Hobj - eps):\n",
        "            a2 = H\n",
        "        else:\n",
        "            a2 = alph2\n",
        "            \n",
        "    # Push a2 to 0 or C if very close\n",
        "    if a2 < 1e-8:\n",
        "        a2 = 0.0\n",
        "    elif a2 > (model.C - 1e-8):\n",
        "        a2 = model.C\n",
        "    \n",
        "    # If examples can't be optimized within epsilon (eps), skip this pair\n",
        "    if (np.abs(a2 - alph2) < eps * (a2 + alph2 + eps)):\n",
        "        return 0, model\n",
        "    \n",
        "    # Calculate new alpha 1 (a1)\n",
        "    a1 = alph1 + s * (alph2 - a2)\n",
        "    \n",
        "    # Update threshold b to reflect newly calculated alphas\n",
        "    # Calculate both possible thresholds\n",
        "    b1 = E1 + y1 * (a1 - alph1) * k11 + y2 * (a2 - alph2) * k12 + model.b\n",
        "    b2 = E2 + y1 * (a1 - alph1) * k12 + y2 * (a2 - alph2) * k22 + model.b\n",
        "    \n",
        "    # Set new threshold based on if a1 or a2 is bound by L and/or H\n",
        "    if 0 < a1 and a1 < C:\n",
        "        b_new = b1\n",
        "    elif 0 < a2 and a2 < C:\n",
        "        b_new = b2\n",
        "    # Average thresholds if both are bound\n",
        "    else:\n",
        "        b_new = (b1 + b2) * 0.5\n",
        "\n",
        "    # Update model object with new alphas & threshold\n",
        "    model.alphas[i1] = a1\n",
        "    model.alphas[i2] = a2\n",
        "    \n",
        "    # Update error cache\n",
        "    # Error cache for optimized alphas is set to 0 if they're unbound\n",
        "    for index, alph in zip([i1, i2], [a1, a2]):\n",
        "        if 0.0 < alph < model.C:\n",
        "            model.errors[index] = 0.0\n",
        "    \n",
        "    # Set non-optimized errors based on equation 12.11 in Platt's book\n",
        "    non_opt = [n for n in range(model.m) if (n != i1 and n != i2)]\n",
        "    model.errors[non_opt] = model.errors[non_opt] +\\\n",
        "                            y1*(a1 - alph1)*model.kernel(model.X[i1], model.X[non_opt]) +\\\n",
        "                            y2*(a2 - alph2)*model.kernel(model.X[i2], model.X[non_opt]) + model.b - b_new\n",
        "    \n",
        "    # Update model threshold\n",
        "    model.b = b_new\n",
        "    \n",
        "    return 1, model"
      ],
      "execution_count": 0,
      "outputs": []
    },
    {
      "cell_type": "code",
      "metadata": {
        "id": "0VjqTaHZ_uuV",
        "colab_type": "code",
        "colab": {}
      },
      "source": [
        "def examine_example(i2, model):\n",
        "    \n",
        "    y2 = model.y[i2]\n",
        "    alph2 = model.alphas[i2]\n",
        "    E2 = model.errors[i2]\n",
        "    r2 = E2 * y2\n",
        "\n",
        "    # Proceed if error is within specified tolerance (tol)\n",
        "    if ((r2 < -tol and alph2 < model.C) or (r2 > tol and alph2 > 0)):\n",
        "        \n",
        "        if len(model.alphas[(model.alphas != 0) & (model.alphas != model.C)]) > 1:\n",
        "            # Use 2nd choice heuristic is choose max difference in error\n",
        "            if model.errors[i2] > 0:\n",
        "                i1 = np.argmin(model.errors)\n",
        "            elif model.errors[i2] <= 0:\n",
        "                i1 = np.argmax(model.errors)\n",
        "            step_result, model = take_step(i1, i2, model)\n",
        "            if step_result:\n",
        "                return 1, model\n",
        "            \n",
        "        # Loop through non-zero and non-C alphas, starting at a random point\n",
        "        for i1 in np.roll(np.where((model.alphas != 0) & (model.alphas != model.C))[0],\n",
        "                          np.random.choice(np.arange(model.m))):\n",
        "            step_result, model = take_step(i1, i2, model)\n",
        "            if step_result:\n",
        "                return 1, model\n",
        "        \n",
        "        # loop through all alphas, starting at a random point\n",
        "        for i1 in np.roll(np.arange(model.m), np.random.choice(np.arange(model.m))):\n",
        "            step_result, model = take_step(i1, i2, model)\n",
        "            if step_result:\n",
        "                return 1, model\n",
        "    \n",
        "    return 0, model"
      ],
      "execution_count": 0,
      "outputs": []
    },
    {
      "cell_type": "code",
      "metadata": {
        "id": "Sz-VUtmS_zLu",
        "colab_type": "code",
        "colab": {}
      },
      "source": [
        "def train(model):\n",
        "    \n",
        "    numChanged = 0\n",
        "    examineAll = 1\n",
        "    iterations = 0\n",
        "    \n",
        "    while(numChanged > 0) or (examineAll):\n",
        "        iterations += 1\n",
        "#         print(iterations)\n",
        "        if(iterations>5000):\n",
        "            break\n",
        "        numChanged = 0\n",
        "        if examineAll:\n",
        "            # loop over all training examples\n",
        "            for i in range(model.alphas.shape[0]):\n",
        "                examine_result, model = examine_example(i, model)\n",
        "                numChanged += examine_result\n",
        "                if examine_result:\n",
        "                    obj_result = objective_function(model.alphas, model.y, model.kernel, model.X)\n",
        "                    model._obj.append(obj_result)\n",
        "        else:\n",
        "            # loop over examples where alphas are not already at their limits\n",
        "            for i in np.where((model.alphas != 0) & (model.alphas != model.C))[0]:\n",
        "                examine_result, model = examine_example(i, model)\n",
        "                numChanged += examine_result\n",
        "                if examine_result:\n",
        "                    obj_result = objective_function(model.alphas, model.y, model.kernel, model.X)\n",
        "                    model._obj.append(obj_result)\n",
        "        if examineAll == 1:\n",
        "            examineAll = 0\n",
        "        elif numChanged == 0:\n",
        "            examineAll = 1\n",
        "        \n",
        "    return model\n",
        "  "
      ],
      "execution_count": 0,
      "outputs": []
    },
    {
      "cell_type": "code",
      "metadata": {
        "id": "dFdyUPd1nF-f",
        "colab_type": "code",
        "colab": {}
      },
      "source": [
        "# Set model parameters and initial values\n",
        "C = 1.2\n",
        "#m = len(X_train)\n",
        "#initial_alphas = np.zeros(m)\n",
        "initial_b = 0.0\n",
        "\n",
        "# Set tolerances\n",
        "tol = 0.01 # error tolerance\n",
        "eps = 0.01 # alpha tolerance\n",
        "\n",
        "# Instantiate model\n",
        "#model = SMOModel(X_train, y_train, C, linear_kernel,initial_alphas, initial_b, np.zeros(m))\n",
        "#output = train(model)\n",
        "\n",
        "# For prediction\n",
        "#predictions = decision_function(model.alphas, model.y, model.kernel,model.X, X_test, model.b)\n",
        "#print(predictions)"
      ],
      "execution_count": 0,
      "outputs": []
    },
    {
      "cell_type": "code",
      "metadata": {
        "id": "OqCybS_LS4lf",
        "colab_type": "code",
        "colab": {}
      },
      "source": [
        "from sklearn import svm\n"
      ],
      "execution_count": 0,
      "outputs": []
    },
    {
      "cell_type": "code",
      "metadata": {
        "id": "Hr_EEVf6_2HI",
        "colab_type": "code",
        "colab": {}
      },
      "source": [
        "#Loading and preprocessing data\n",
        "import pandas as pd\n",
        "import numpy as np\n",
        "from sklearn.metrics import confusion_matrix, classification_report\n",
        "from sklearn.preprocessing import StandardScaler, LabelEncoder\n",
        "from sklearn.model_selection import train_test_split, GridSearchCV, cross_val_score\n",
        "%matplotlib inline\n",
        "import matplotlib.pyplot as plt\n",
        "import seaborn as sns"
      ],
      "execution_count": 0,
      "outputs": []
    },
    {
      "cell_type": "code",
      "metadata": {
        "id": "NzylP0Ls4G15",
        "colab_type": "code",
        "outputId": "58c5d887-6e64-45b8-a466-03b65384c189",
        "colab": {
          "resources": {
            "http://localhost:8080/nbextensions/google.colab/files.js": {
              "data": "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",
              "ok": true,
              "headers": [
                [
                  "content-type",
                  "application/javascript"
                ]
              ],
              "status": 200,
              "status_text": ""
            }
          },
          "base_uri": "https://localhost:8080/",
          "height": 74
        }
      },
      "source": [
        "from google.colab import files\n",
        "uploadeddata = files.upload()"
      ],
      "execution_count": 12,
      "outputs": [
        {
          "output_type": "display_data",
          "data": {
            "text/html": [
              "\n",
              "     <input type=\"file\" id=\"files-0f3e8568-46ca-4f86-9e7c-62075ecb5601\" name=\"files[]\" multiple disabled />\n",
              "     <output id=\"result-0f3e8568-46ca-4f86-9e7c-62075ecb5601\">\n",
              "      Upload widget is only available when the cell has been executed in the\n",
              "      current browser session. Please rerun this cell to enable.\n",
              "      </output>\n",
              "      <script src=\"/nbextensions/google.colab/files.js\"></script> "
            ],
            "text/plain": [
              "<IPython.core.display.HTML object>"
            ]
          },
          "metadata": {
            "tags": []
          }
        },
        {
          "output_type": "stream",
          "text": [
            "Saving winequality-red.csv to winequality-red (4).csv\n"
          ],
          "name": "stdout"
        }
      ]
    },
    {
      "cell_type": "code",
      "metadata": {
        "id": "qlu4Mv495J6h",
        "colab_type": "code",
        "outputId": "748abefc-8114-44eb-a09a-6938fd7ab475",
        "colab": {
          "base_uri": "https://localhost:8080/",
          "height": 68
        }
      },
      "source": [
        "!ls"
      ],
      "execution_count": 13,
      "outputs": [
        {
          "output_type": "stream",
          "text": [
            " sample_data\t\t   'winequality-red (2).csv'   winequality-red.csv\n",
            " svm\t\t\t   'winequality-red (3).csv'\n",
            "'winequality-red (1).csv'  'winequality-red (4).csv'\n"
          ],
          "name": "stdout"
        }
      ]
    },
    {
      "cell_type": "code",
      "metadata": {
        "id": "JbyiYrKHAA1V",
        "colab_type": "code",
        "colab": {}
      },
      "source": [
        "redwine = pd.read_csv('winequality-red.csv',delimiter=';')"
      ],
      "execution_count": 0,
      "outputs": []
    },
    {
      "cell_type": "code",
      "metadata": {
        "id": "inhF1jue74Wx",
        "colab_type": "code",
        "outputId": "0205dbaf-df09-4f2c-a5d8-ab9be6657d93",
        "colab": {
          "base_uri": "https://localhost:8080/",
          "height": 221
        }
      },
      "source": [
        "redwine.head()"
      ],
      "execution_count": 15,
      "outputs": [
        {
          "output_type": "execute_result",
          "data": {
            "text/html": [
              "<div>\n",
              "<style scoped>\n",
              "    .dataframe tbody tr th:only-of-type {\n",
              "        vertical-align: middle;\n",
              "    }\n",
              "\n",
              "    .dataframe tbody tr th {\n",
              "        vertical-align: top;\n",
              "    }\n",
              "\n",
              "    .dataframe thead th {\n",
              "        text-align: right;\n",
              "    }\n",
              "</style>\n",
              "<table border=\"1\" class=\"dataframe\">\n",
              "  <thead>\n",
              "    <tr style=\"text-align: right;\">\n",
              "      <th></th>\n",
              "      <th>fixed acidity</th>\n",
              "      <th>volatile acidity</th>\n",
              "      <th>citric acid</th>\n",
              "      <th>residual sugar</th>\n",
              "      <th>chlorides</th>\n",
              "      <th>free sulfur dioxide</th>\n",
              "      <th>total sulfur dioxide</th>\n",
              "      <th>density</th>\n",
              "      <th>pH</th>\n",
              "      <th>sulphates</th>\n",
              "      <th>alcohol</th>\n",
              "      <th>quality</th>\n",
              "    </tr>\n",
              "  </thead>\n",
              "  <tbody>\n",
              "    <tr>\n",
              "      <th>0</th>\n",
              "      <td>7.4</td>\n",
              "      <td>0.70</td>\n",
              "      <td>0.00</td>\n",
              "      <td>1.9</td>\n",
              "      <td>0.076</td>\n",
              "      <td>11.0</td>\n",
              "      <td>34.0</td>\n",
              "      <td>0.9978</td>\n",
              "      <td>3.51</td>\n",
              "      <td>0.56</td>\n",
              "      <td>9.4</td>\n",
              "      <td>5</td>\n",
              "    </tr>\n",
              "    <tr>\n",
              "      <th>1</th>\n",
              "      <td>7.8</td>\n",
              "      <td>0.88</td>\n",
              "      <td>0.00</td>\n",
              "      <td>2.6</td>\n",
              "      <td>0.098</td>\n",
              "      <td>25.0</td>\n",
              "      <td>67.0</td>\n",
              "      <td>0.9968</td>\n",
              "      <td>3.20</td>\n",
              "      <td>0.68</td>\n",
              "      <td>9.8</td>\n",
              "      <td>5</td>\n",
              "    </tr>\n",
              "    <tr>\n",
              "      <th>2</th>\n",
              "      <td>7.8</td>\n",
              "      <td>0.76</td>\n",
              "      <td>0.04</td>\n",
              "      <td>2.3</td>\n",
              "      <td>0.092</td>\n",
              "      <td>15.0</td>\n",
              "      <td>54.0</td>\n",
              "      <td>0.9970</td>\n",
              "      <td>3.26</td>\n",
              "      <td>0.65</td>\n",
              "      <td>9.8</td>\n",
              "      <td>5</td>\n",
              "    </tr>\n",
              "    <tr>\n",
              "      <th>3</th>\n",
              "      <td>11.2</td>\n",
              "      <td>0.28</td>\n",
              "      <td>0.56</td>\n",
              "      <td>1.9</td>\n",
              "      <td>0.075</td>\n",
              "      <td>17.0</td>\n",
              "      <td>60.0</td>\n",
              "      <td>0.9980</td>\n",
              "      <td>3.16</td>\n",
              "      <td>0.58</td>\n",
              "      <td>9.8</td>\n",
              "      <td>6</td>\n",
              "    </tr>\n",
              "    <tr>\n",
              "      <th>4</th>\n",
              "      <td>7.4</td>\n",
              "      <td>0.70</td>\n",
              "      <td>0.00</td>\n",
              "      <td>1.9</td>\n",
              "      <td>0.076</td>\n",
              "      <td>11.0</td>\n",
              "      <td>34.0</td>\n",
              "      <td>0.9978</td>\n",
              "      <td>3.51</td>\n",
              "      <td>0.56</td>\n",
              "      <td>9.4</td>\n",
              "      <td>5</td>\n",
              "    </tr>\n",
              "  </tbody>\n",
              "</table>\n",
              "</div>"
            ],
            "text/plain": [
              "   fixed acidity  volatile acidity  citric acid  ...  sulphates  alcohol  quality\n",
              "0            7.4              0.70         0.00  ...       0.56      9.4        5\n",
              "1            7.8              0.88         0.00  ...       0.68      9.8        5\n",
              "2            7.8              0.76         0.04  ...       0.65      9.8        5\n",
              "3           11.2              0.28         0.56  ...       0.58      9.8        6\n",
              "4            7.4              0.70         0.00  ...       0.56      9.4        5\n",
              "\n",
              "[5 rows x 12 columns]"
            ]
          },
          "metadata": {
            "tags": []
          },
          "execution_count": 15
        }
      ]
    },
    {
      "cell_type": "code",
      "metadata": {
        "id": "ZDOCreJy8CMy",
        "colab_type": "code",
        "outputId": "ee9f443c-a5ef-4f9b-b5b5-67f88c8b5a9b",
        "colab": {
          "base_uri": "https://localhost:8080/",
          "height": 197
        }
      },
      "source": [
        "#Here we see that fixed acidity does not give any specification to classify the quality.\n",
        "fig = plt.figure(figsize = (10,6))\n",
        "sns.barplot(x = 'quality', y = 'fixed acidity', data = df)"
      ],
      "execution_count": 16,
      "outputs": [
        {
          "output_type": "error",
          "ename": "NameError",
          "evalue": "ignored",
          "traceback": [
            "\u001b[0;31m---------------------------------------------------------------------------\u001b[0m",
            "\u001b[0;31mNameError\u001b[0m                                 Traceback (most recent call last)",
            "\u001b[0;32m<ipython-input-16-004cd458199e>\u001b[0m in \u001b[0;36m<module>\u001b[0;34m()\u001b[0m\n\u001b[1;32m      1\u001b[0m \u001b[0mfig\u001b[0m \u001b[0;34m=\u001b[0m \u001b[0mplt\u001b[0m\u001b[0;34m.\u001b[0m\u001b[0mfigure\u001b[0m\u001b[0;34m(\u001b[0m\u001b[0mfigsize\u001b[0m \u001b[0;34m=\u001b[0m \u001b[0;34m(\u001b[0m\u001b[0;36m10\u001b[0m\u001b[0;34m,\u001b[0m\u001b[0;36m6\u001b[0m\u001b[0;34m)\u001b[0m\u001b[0;34m)\u001b[0m\u001b[0;34m\u001b[0m\u001b[0;34m\u001b[0m\u001b[0m\n\u001b[0;32m----> 2\u001b[0;31m \u001b[0msns\u001b[0m\u001b[0;34m.\u001b[0m\u001b[0mbarplot\u001b[0m\u001b[0;34m(\u001b[0m\u001b[0mx\u001b[0m \u001b[0;34m=\u001b[0m \u001b[0;34m'quality'\u001b[0m\u001b[0;34m,\u001b[0m \u001b[0my\u001b[0m \u001b[0;34m=\u001b[0m \u001b[0;34m'fixed acidity'\u001b[0m\u001b[0;34m,\u001b[0m \u001b[0mdata\u001b[0m \u001b[0;34m=\u001b[0m \u001b[0mdf\u001b[0m\u001b[0;34m)\u001b[0m\u001b[0;34m\u001b[0m\u001b[0;34m\u001b[0m\u001b[0m\n\u001b[0m",
            "\u001b[0;31mNameError\u001b[0m: name 'df' is not defined"
          ]
        },
        {
          "output_type": "display_data",
          "data": {
            "text/plain": [
              "<Figure size 720x432 with 0 Axes>"
            ]
          },
          "metadata": {
            "tags": []
          }
        }
      ]
    },
    {
      "cell_type": "code",
      "metadata": {
        "id": "yzSQvPBF8Vjm",
        "colab_type": "code",
        "colab": {}
      },
      "source": [
        "redwine.drop([\"free sulfur dioxide\",\"citric acid\",\"chlorides\",\"density\"],axis=1,inplace = True)"
      ],
      "execution_count": 0,
      "outputs": []
    },
    {
      "cell_type": "code",
      "metadata": {
        "id": "aT5PhQ6Q8Oea",
        "colab_type": "code",
        "colab": {}
      },
      "source": [
        "\n"
      ],
      "execution_count": 0,
      "outputs": []
    },
    {
      "cell_type": "code",
      "metadata": {
        "id": "mDtFxBNaifn9",
        "colab_type": "code",
        "outputId": "39d3c38f-f052-4d7d-c0c2-1af80d1a1ebb",
        "colab": {
          "base_uri": "https://localhost:8080/",
          "height": 34
        }
      },
      "source": [
        "#checking duplicated values\n",
        "sum(redwine.duplicated())\n"
      ],
      "execution_count": 18,
      "outputs": [
        {
          "output_type": "execute_result",
          "data": {
            "text/plain": [
              "240"
            ]
          },
          "metadata": {
            "tags": []
          },
          "execution_count": 18
        }
      ]
    },
    {
      "cell_type": "code",
      "metadata": {
        "id": "mtfGpTCeUKnF",
        "colab_type": "code",
        "outputId": "b1167654-7b20-413d-e94e-643ed6437dd3",
        "colab": {
          "base_uri": "https://localhost:8080/",
          "height": 34
        }
      },
      "source": [
        "redwine =redwine.drop_duplicates()\n",
        "redwine.shape"
      ],
      "execution_count": 19,
      "outputs": [
        {
          "output_type": "execute_result",
          "data": {
            "text/plain": [
              "(1359, 8)"
            ]
          },
          "metadata": {
            "tags": []
          },
          "execution_count": 19
        }
      ]
    },
    {
      "cell_type": "code",
      "metadata": {
        "id": "rtAU0Yfkitqo",
        "colab_type": "code",
        "colab": {}
      },
      "source": [
        "redwine = redwine.reset_index(drop=True)"
      ],
      "execution_count": 0,
      "outputs": []
    },
    {
      "cell_type": "code",
      "metadata": {
        "id": "bjGCOgoJAFf6",
        "colab_type": "code",
        "outputId": "884cf59d-8e1e-4aa2-a424-b155aed6dc98",
        "colab": {
          "base_uri": "https://localhost:8080/",
          "height": 34
        }
      },
      "source": [
        "quality = redwine[\"quality\"].values\n",
        "category = []\n",
        "for num in quality:\n",
        "    if num < 5:\n",
        "        category.append(\"Low Quality\")\n",
        "    elif num >7:\n",
        "        category.append(\"High Quality\")\n",
        "    else:\n",
        "        category.append(\"Normal Quality\")\n",
        "len(category)"
      ],
      "execution_count": 21,
      "outputs": [
        {
          "output_type": "execute_result",
          "data": {
            "text/plain": [
              "1359"
            ]
          },
          "metadata": {
            "tags": []
          },
          "execution_count": 21
        }
      ]
    },
    {
      "cell_type": "code",
      "metadata": {
        "id": "bW07Bhe7UZPd",
        "colab_type": "code",
        "colab": {}
      },
      "source": [
        "\n",
        "\n",
        "category = pd.DataFrame(data=category, columns=[\"category\"])\n",
        "data = pd.concat([redwine, category], axis=1)\n",
        "\n",
        "data.drop(columns=\"quality\", axis=1, inplace=True)\n",
        "X = data.iloc[:, :-1].values\n",
        "y= data.iloc[:, -1].values"
      ],
      "execution_count": 0,
      "outputs": []
    },
    {
      "cell_type": "code",
      "metadata": {
        "id": "rr8dtRcXUkVQ",
        "colab_type": "code",
        "colab": {}
      },
      "source": [
        "\n",
        "from sklearn.preprocessing import LabelEncoder\n",
        "labelencoder_y = LabelEncoder()\n",
        "y = labelencoder_y.fit_transform(y)"
      ],
      "execution_count": 0,
      "outputs": []
    },
    {
      "cell_type": "code",
      "metadata": {
        "id": "6ZOQ2VJZUlf5",
        "colab_type": "code",
        "outputId": "cf7b5b50-9fe3-4d06-eeb4-cff3ffca0809",
        "colab": {
          "base_uri": "https://localhost:8080/",
          "height": 34
        }
      },
      "source": [
        "labelencoder_y.transform([\"High Quality\",\"Low Quality\", \"Normal Quality\"])"
      ],
      "execution_count": 24,
      "outputs": [
        {
          "output_type": "execute_result",
          "data": {
            "text/plain": [
              "array([0, 1, 2])"
            ]
          },
          "metadata": {
            "tags": []
          },
          "execution_count": 24
        }
      ]
    },
    {
      "cell_type": "code",
      "metadata": {
        "id": "mMxYwm9UUlnl",
        "colab_type": "code",
        "colab": {}
      },
      "source": [
        "# from sklearn import preprocessing\n",
        "# #normalizing\n",
        "# normalized_X= preprocessing.normalize(X)\n",
        "# standardized_X = preprocessing.scale(X)"
      ],
      "execution_count": 0,
      "outputs": []
    },
    {
      "cell_type": "code",
      "metadata": {
        "id": "AhrkAV5HkmDc",
        "colab_type": "code",
        "colab": {}
      },
      "source": [
        "# from sklearn.model_selection import train_test_split\n",
        "# x_train,x_test,y_train,y_test = train_test_split(standardized_X,y,test_size=0.2,random_state=42)"
      ],
      "execution_count": 0,
      "outputs": []
    },
    {
      "cell_type": "code",
      "metadata": {
        "id": "kLMvVq8kLx44",
        "colab_type": "code",
        "colab": {}
      },
      "source": [
        "\n",
        "from sklearn.model_selection import train_test_split\n",
        "\n",
        "x_train, x_test, y_train, y_test = train_test_split(\n",
        "    X, y, test_size=0.2, random_state=42)"
      ],
      "execution_count": 0,
      "outputs": []
    },
    {
      "cell_type": "code",
      "metadata": {
        "id": "kVd7jIunUjiX",
        "colab_type": "code",
        "colab": {}
      },
      "source": [
        "z1 = pd.DataFrame(x_test.copy())\n",
        "z2 = pd.DataFrame(y_test.copy())\n",
        "dataframeForTest = pd.concat([z1,z2], axis=1)"
      ],
      "execution_count": 0,
      "outputs": []
    },
    {
      "cell_type": "code",
      "metadata": {
        "id": "ZhvUHsPlALFT",
        "colab_type": "code",
        "colab": {}
      },
      "source": [
        "from sklearn.preprocessing import StandardScaler\n",
        "# # Applying Standard scaling to get optimized result\n",
        "sc = StandardScaler()\n",
        "x_train = sc.fit_transform(x_train)\n",
        "x_test = sc.fit_transform(x_test)\n"
      ],
      "execution_count": 0,
      "outputs": []
    },
    {
      "cell_type": "code",
      "metadata": {
        "id": "EoiFOIX-AOb8",
        "colab_type": "code",
        "outputId": "91cd1a3c-d45d-4e09-cd9c-7f2a11b97b78",
        "colab": {
          "base_uri": "https://localhost:8080/",
          "height": 1000
        }
      },
      "source": [
        "data"
      ],
      "execution_count": 30,
      "outputs": [
        {
          "output_type": "execute_result",
          "data": {
            "text/html": [
              "<div>\n",
              "<style scoped>\n",
              "    .dataframe tbody tr th:only-of-type {\n",
              "        vertical-align: middle;\n",
              "    }\n",
              "\n",
              "    .dataframe tbody tr th {\n",
              "        vertical-align: top;\n",
              "    }\n",
              "\n",
              "    .dataframe thead th {\n",
              "        text-align: right;\n",
              "    }\n",
              "</style>\n",
              "<table border=\"1\" class=\"dataframe\">\n",
              "  <thead>\n",
              "    <tr style=\"text-align: right;\">\n",
              "      <th></th>\n",
              "      <th>fixed acidity</th>\n",
              "      <th>volatile acidity</th>\n",
              "      <th>residual sugar</th>\n",
              "      <th>total sulfur dioxide</th>\n",
              "      <th>pH</th>\n",
              "      <th>sulphates</th>\n",
              "      <th>alcohol</th>\n",
              "      <th>category</th>\n",
              "    </tr>\n",
              "  </thead>\n",
              "  <tbody>\n",
              "    <tr>\n",
              "      <th>0</th>\n",
              "      <td>7.4</td>\n",
              "      <td>0.700</td>\n",
              "      <td>1.9</td>\n",
              "      <td>34.0</td>\n",
              "      <td>3.51</td>\n",
              "      <td>0.56</td>\n",
              "      <td>9.4</td>\n",
              "      <td>Normal Quality</td>\n",
              "    </tr>\n",
              "    <tr>\n",
              "      <th>1</th>\n",
              "      <td>7.8</td>\n",
              "      <td>0.880</td>\n",
              "      <td>2.6</td>\n",
              "      <td>67.0</td>\n",
              "      <td>3.20</td>\n",
              "      <td>0.68</td>\n",
              "      <td>9.8</td>\n",
              "      <td>Normal Quality</td>\n",
              "    </tr>\n",
              "    <tr>\n",
              "      <th>2</th>\n",
              "      <td>7.8</td>\n",
              "      <td>0.760</td>\n",
              "      <td>2.3</td>\n",
              "      <td>54.0</td>\n",
              "      <td>3.26</td>\n",
              "      <td>0.65</td>\n",
              "      <td>9.8</td>\n",
              "      <td>Normal Quality</td>\n",
              "    </tr>\n",
              "    <tr>\n",
              "      <th>3</th>\n",
              "      <td>11.2</td>\n",
              "      <td>0.280</td>\n",
              "      <td>1.9</td>\n",
              "      <td>60.0</td>\n",
              "      <td>3.16</td>\n",
              "      <td>0.58</td>\n",
              "      <td>9.8</td>\n",
              "      <td>Normal Quality</td>\n",
              "    </tr>\n",
              "    <tr>\n",
              "      <th>4</th>\n",
              "      <td>7.4</td>\n",
              "      <td>0.660</td>\n",
              "      <td>1.8</td>\n",
              "      <td>40.0</td>\n",
              "      <td>3.51</td>\n",
              "      <td>0.56</td>\n",
              "      <td>9.4</td>\n",
              "      <td>Normal Quality</td>\n",
              "    </tr>\n",
              "    <tr>\n",
              "      <th>5</th>\n",
              "      <td>7.9</td>\n",
              "      <td>0.600</td>\n",
              "      <td>1.6</td>\n",
              "      <td>59.0</td>\n",
              "      <td>3.30</td>\n",
              "      <td>0.46</td>\n",
              "      <td>9.4</td>\n",
              "      <td>Normal Quality</td>\n",
              "    </tr>\n",
              "    <tr>\n",
              "      <th>6</th>\n",
              "      <td>7.3</td>\n",
              "      <td>0.650</td>\n",
              "      <td>1.2</td>\n",
              "      <td>21.0</td>\n",
              "      <td>3.39</td>\n",
              "      <td>0.47</td>\n",
              "      <td>10.0</td>\n",
              "      <td>Normal Quality</td>\n",
              "    </tr>\n",
              "    <tr>\n",
              "      <th>7</th>\n",
              "      <td>7.8</td>\n",
              "      <td>0.580</td>\n",
              "      <td>2.0</td>\n",
              "      <td>18.0</td>\n",
              "      <td>3.36</td>\n",
              "      <td>0.57</td>\n",
              "      <td>9.5</td>\n",
              "      <td>Normal Quality</td>\n",
              "    </tr>\n",
              "    <tr>\n",
              "      <th>8</th>\n",
              "      <td>7.5</td>\n",
              "      <td>0.500</td>\n",
              "      <td>6.1</td>\n",
              "      <td>102.0</td>\n",
              "      <td>3.35</td>\n",
              "      <td>0.80</td>\n",
              "      <td>10.5</td>\n",
              "      <td>Normal Quality</td>\n",
              "    </tr>\n",
              "    <tr>\n",
              "      <th>9</th>\n",
              "      <td>6.7</td>\n",
              "      <td>0.580</td>\n",
              "      <td>1.8</td>\n",
              "      <td>65.0</td>\n",
              "      <td>3.28</td>\n",
              "      <td>0.54</td>\n",
              "      <td>9.2</td>\n",
              "      <td>Normal Quality</td>\n",
              "    </tr>\n",
              "    <tr>\n",
              "      <th>10</th>\n",
              "      <td>5.6</td>\n",
              "      <td>0.615</td>\n",
              "      <td>1.6</td>\n",
              "      <td>59.0</td>\n",
              "      <td>3.58</td>\n",
              "      <td>0.52</td>\n",
              "      <td>9.9</td>\n",
              "      <td>Normal Quality</td>\n",
              "    </tr>\n",
              "    <tr>\n",
              "      <th>11</th>\n",
              "      <td>7.8</td>\n",
              "      <td>0.610</td>\n",
              "      <td>1.6</td>\n",
              "      <td>29.0</td>\n",
              "      <td>3.26</td>\n",
              "      <td>1.56</td>\n",
              "      <td>9.1</td>\n",
              "      <td>Normal Quality</td>\n",
              "    </tr>\n",
              "    <tr>\n",
              "      <th>12</th>\n",
              "      <td>8.9</td>\n",
              "      <td>0.620</td>\n",
              "      <td>3.8</td>\n",
              "      <td>145.0</td>\n",
              "      <td>3.16</td>\n",
              "      <td>0.88</td>\n",
              "      <td>9.2</td>\n",
              "      <td>Normal Quality</td>\n",
              "    </tr>\n",
              "    <tr>\n",
              "      <th>13</th>\n",
              "      <td>8.9</td>\n",
              "      <td>0.620</td>\n",
              "      <td>3.9</td>\n",
              "      <td>148.0</td>\n",
              "      <td>3.17</td>\n",
              "      <td>0.93</td>\n",
              "      <td>9.2</td>\n",
              "      <td>Normal Quality</td>\n",
              "    </tr>\n",
              "    <tr>\n",
              "      <th>14</th>\n",
              "      <td>8.5</td>\n",
              "      <td>0.280</td>\n",
              "      <td>1.8</td>\n",
              "      <td>103.0</td>\n",
              "      <td>3.30</td>\n",
              "      <td>0.75</td>\n",
              "      <td>10.5</td>\n",
              "      <td>Normal Quality</td>\n",
              "    </tr>\n",
              "    <tr>\n",
              "      <th>15</th>\n",
              "      <td>8.1</td>\n",
              "      <td>0.560</td>\n",
              "      <td>1.7</td>\n",
              "      <td>56.0</td>\n",
              "      <td>3.11</td>\n",
              "      <td>1.28</td>\n",
              "      <td>9.3</td>\n",
              "      <td>Normal Quality</td>\n",
              "    </tr>\n",
              "    <tr>\n",
              "      <th>16</th>\n",
              "      <td>7.4</td>\n",
              "      <td>0.590</td>\n",
              "      <td>4.4</td>\n",
              "      <td>29.0</td>\n",
              "      <td>3.38</td>\n",
              "      <td>0.50</td>\n",
              "      <td>9.0</td>\n",
              "      <td>Low Quality</td>\n",
              "    </tr>\n",
              "    <tr>\n",
              "      <th>17</th>\n",
              "      <td>7.9</td>\n",
              "      <td>0.320</td>\n",
              "      <td>1.8</td>\n",
              "      <td>56.0</td>\n",
              "      <td>3.04</td>\n",
              "      <td>1.08</td>\n",
              "      <td>9.2</td>\n",
              "      <td>Normal Quality</td>\n",
              "    </tr>\n",
              "    <tr>\n",
              "      <th>18</th>\n",
              "      <td>8.9</td>\n",
              "      <td>0.220</td>\n",
              "      <td>1.8</td>\n",
              "      <td>60.0</td>\n",
              "      <td>3.39</td>\n",
              "      <td>0.53</td>\n",
              "      <td>9.4</td>\n",
              "      <td>Normal Quality</td>\n",
              "    </tr>\n",
              "    <tr>\n",
              "      <th>19</th>\n",
              "      <td>7.6</td>\n",
              "      <td>0.390</td>\n",
              "      <td>2.3</td>\n",
              "      <td>71.0</td>\n",
              "      <td>3.52</td>\n",
              "      <td>0.65</td>\n",
              "      <td>9.7</td>\n",
              "      <td>Normal Quality</td>\n",
              "    </tr>\n",
              "    <tr>\n",
              "      <th>20</th>\n",
              "      <td>7.9</td>\n",
              "      <td>0.430</td>\n",
              "      <td>1.6</td>\n",
              "      <td>37.0</td>\n",
              "      <td>3.17</td>\n",
              "      <td>0.91</td>\n",
              "      <td>9.5</td>\n",
              "      <td>Normal Quality</td>\n",
              "    </tr>\n",
              "    <tr>\n",
              "      <th>21</th>\n",
              "      <td>8.5</td>\n",
              "      <td>0.490</td>\n",
              "      <td>2.3</td>\n",
              "      <td>67.0</td>\n",
              "      <td>3.17</td>\n",
              "      <td>0.53</td>\n",
              "      <td>9.4</td>\n",
              "      <td>Normal Quality</td>\n",
              "    </tr>\n",
              "    <tr>\n",
              "      <th>22</th>\n",
              "      <td>6.9</td>\n",
              "      <td>0.400</td>\n",
              "      <td>2.4</td>\n",
              "      <td>40.0</td>\n",
              "      <td>3.43</td>\n",
              "      <td>0.63</td>\n",
              "      <td>9.7</td>\n",
              "      <td>Normal Quality</td>\n",
              "    </tr>\n",
              "    <tr>\n",
              "      <th>23</th>\n",
              "      <td>6.3</td>\n",
              "      <td>0.390</td>\n",
              "      <td>1.4</td>\n",
              "      <td>23.0</td>\n",
              "      <td>3.34</td>\n",
              "      <td>0.56</td>\n",
              "      <td>9.3</td>\n",
              "      <td>Normal Quality</td>\n",
              "    </tr>\n",
              "    <tr>\n",
              "      <th>24</th>\n",
              "      <td>7.6</td>\n",
              "      <td>0.410</td>\n",
              "      <td>1.8</td>\n",
              "      <td>11.0</td>\n",
              "      <td>3.28</td>\n",
              "      <td>0.59</td>\n",
              "      <td>9.5</td>\n",
              "      <td>Normal Quality</td>\n",
              "    </tr>\n",
              "    <tr>\n",
              "      <th>25</th>\n",
              "      <td>7.1</td>\n",
              "      <td>0.710</td>\n",
              "      <td>1.9</td>\n",
              "      <td>35.0</td>\n",
              "      <td>3.47</td>\n",
              "      <td>0.55</td>\n",
              "      <td>9.4</td>\n",
              "      <td>Normal Quality</td>\n",
              "    </tr>\n",
              "    <tr>\n",
              "      <th>26</th>\n",
              "      <td>7.8</td>\n",
              "      <td>0.645</td>\n",
              "      <td>2.0</td>\n",
              "      <td>16.0</td>\n",
              "      <td>3.38</td>\n",
              "      <td>0.59</td>\n",
              "      <td>9.8</td>\n",
              "      <td>Normal Quality</td>\n",
              "    </tr>\n",
              "    <tr>\n",
              "      <th>27</th>\n",
              "      <td>6.7</td>\n",
              "      <td>0.675</td>\n",
              "      <td>2.4</td>\n",
              "      <td>82.0</td>\n",
              "      <td>3.35</td>\n",
              "      <td>0.54</td>\n",
              "      <td>10.1</td>\n",
              "      <td>Normal Quality</td>\n",
              "    </tr>\n",
              "    <tr>\n",
              "      <th>28</th>\n",
              "      <td>6.9</td>\n",
              "      <td>0.685</td>\n",
              "      <td>2.5</td>\n",
              "      <td>37.0</td>\n",
              "      <td>3.46</td>\n",
              "      <td>0.57</td>\n",
              "      <td>10.6</td>\n",
              "      <td>Normal Quality</td>\n",
              "    </tr>\n",
              "    <tr>\n",
              "      <th>29</th>\n",
              "      <td>8.3</td>\n",
              "      <td>0.655</td>\n",
              "      <td>2.3</td>\n",
              "      <td>113.0</td>\n",
              "      <td>3.17</td>\n",
              "      <td>0.66</td>\n",
              "      <td>9.8</td>\n",
              "      <td>Normal Quality</td>\n",
              "    </tr>\n",
              "    <tr>\n",
              "      <th>...</th>\n",
              "      <td>...</td>\n",
              "      <td>...</td>\n",
              "      <td>...</td>\n",
              "      <td>...</td>\n",
              "      <td>...</td>\n",
              "      <td>...</td>\n",
              "      <td>...</td>\n",
              "      <td>...</td>\n",
              "    </tr>\n",
              "    <tr>\n",
              "      <th>1329</th>\n",
              "      <td>6.7</td>\n",
              "      <td>0.160</td>\n",
              "      <td>2.1</td>\n",
              "      <td>52.0</td>\n",
              "      <td>3.34</td>\n",
              "      <td>0.71</td>\n",
              "      <td>11.2</td>\n",
              "      <td>Normal Quality</td>\n",
              "    </tr>\n",
              "    <tr>\n",
              "      <th>1330</th>\n",
              "      <td>7.0</td>\n",
              "      <td>0.560</td>\n",
              "      <td>1.6</td>\n",
              "      <td>42.0</td>\n",
              "      <td>3.34</td>\n",
              "      <td>0.59</td>\n",
              "      <td>9.2</td>\n",
              "      <td>Normal Quality</td>\n",
              "    </tr>\n",
              "    <tr>\n",
              "      <th>1331</th>\n",
              "      <td>6.2</td>\n",
              "      <td>0.510</td>\n",
              "      <td>1.9</td>\n",
              "      <td>34.0</td>\n",
              "      <td>3.48</td>\n",
              "      <td>0.57</td>\n",
              "      <td>11.5</td>\n",
              "      <td>Normal Quality</td>\n",
              "    </tr>\n",
              "    <tr>\n",
              "      <th>1332</th>\n",
              "      <td>6.4</td>\n",
              "      <td>0.360</td>\n",
              "      <td>2.2</td>\n",
              "      <td>35.0</td>\n",
              "      <td>3.37</td>\n",
              "      <td>0.93</td>\n",
              "      <td>12.4</td>\n",
              "      <td>Normal Quality</td>\n",
              "    </tr>\n",
              "    <tr>\n",
              "      <th>1333</th>\n",
              "      <td>6.4</td>\n",
              "      <td>0.380</td>\n",
              "      <td>2.2</td>\n",
              "      <td>25.0</td>\n",
              "      <td>3.44</td>\n",
              "      <td>0.65</td>\n",
              "      <td>11.1</td>\n",
              "      <td>Normal Quality</td>\n",
              "    </tr>\n",
              "    <tr>\n",
              "      <th>1334</th>\n",
              "      <td>7.3</td>\n",
              "      <td>0.690</td>\n",
              "      <td>2.2</td>\n",
              "      <td>104.0</td>\n",
              "      <td>3.33</td>\n",
              "      <td>0.51</td>\n",
              "      <td>9.5</td>\n",
              "      <td>Normal Quality</td>\n",
              "    </tr>\n",
              "    <tr>\n",
              "      <th>1335</th>\n",
              "      <td>6.0</td>\n",
              "      <td>0.580</td>\n",
              "      <td>2.4</td>\n",
              "      <td>50.0</td>\n",
              "      <td>3.58</td>\n",
              "      <td>0.67</td>\n",
              "      <td>12.5</td>\n",
              "      <td>Normal Quality</td>\n",
              "    </tr>\n",
              "    <tr>\n",
              "      <th>1336</th>\n",
              "      <td>5.6</td>\n",
              "      <td>0.310</td>\n",
              "      <td>13.9</td>\n",
              "      <td>92.0</td>\n",
              "      <td>3.39</td>\n",
              "      <td>0.48</td>\n",
              "      <td>10.5</td>\n",
              "      <td>Normal Quality</td>\n",
              "    </tr>\n",
              "    <tr>\n",
              "      <th>1337</th>\n",
              "      <td>7.5</td>\n",
              "      <td>0.520</td>\n",
              "      <td>2.2</td>\n",
              "      <td>20.0</td>\n",
              "      <td>3.26</td>\n",
              "      <td>0.64</td>\n",
              "      <td>11.8</td>\n",
              "      <td>Normal Quality</td>\n",
              "    </tr>\n",
              "    <tr>\n",
              "      <th>1338</th>\n",
              "      <td>8.0</td>\n",
              "      <td>0.300</td>\n",
              "      <td>1.6</td>\n",
              "      <td>29.0</td>\n",
              "      <td>3.30</td>\n",
              "      <td>0.78</td>\n",
              "      <td>10.8</td>\n",
              "      <td>Normal Quality</td>\n",
              "    </tr>\n",
              "    <tr>\n",
              "      <th>1339</th>\n",
              "      <td>6.2</td>\n",
              "      <td>0.700</td>\n",
              "      <td>5.1</td>\n",
              "      <td>27.0</td>\n",
              "      <td>3.54</td>\n",
              "      <td>0.60</td>\n",
              "      <td>11.9</td>\n",
              "      <td>Normal Quality</td>\n",
              "    </tr>\n",
              "    <tr>\n",
              "      <th>1340</th>\n",
              "      <td>6.8</td>\n",
              "      <td>0.670</td>\n",
              "      <td>1.8</td>\n",
              "      <td>20.0</td>\n",
              "      <td>3.42</td>\n",
              "      <td>0.67</td>\n",
              "      <td>11.3</td>\n",
              "      <td>Normal Quality</td>\n",
              "    </tr>\n",
              "    <tr>\n",
              "      <th>1341</th>\n",
              "      <td>6.2</td>\n",
              "      <td>0.560</td>\n",
              "      <td>1.7</td>\n",
              "      <td>32.0</td>\n",
              "      <td>3.54</td>\n",
              "      <td>0.60</td>\n",
              "      <td>11.3</td>\n",
              "      <td>Normal Quality</td>\n",
              "    </tr>\n",
              "    <tr>\n",
              "      <th>1342</th>\n",
              "      <td>7.4</td>\n",
              "      <td>0.350</td>\n",
              "      <td>2.4</td>\n",
              "      <td>26.0</td>\n",
              "      <td>3.36</td>\n",
              "      <td>0.60</td>\n",
              "      <td>11.9</td>\n",
              "      <td>Normal Quality</td>\n",
              "    </tr>\n",
              "    <tr>\n",
              "      <th>1343</th>\n",
              "      <td>6.1</td>\n",
              "      <td>0.715</td>\n",
              "      <td>2.6</td>\n",
              "      <td>27.0</td>\n",
              "      <td>3.57</td>\n",
              "      <td>0.50</td>\n",
              "      <td>11.9</td>\n",
              "      <td>Normal Quality</td>\n",
              "    </tr>\n",
              "    <tr>\n",
              "      <th>1344</th>\n",
              "      <td>6.2</td>\n",
              "      <td>0.460</td>\n",
              "      <td>2.1</td>\n",
              "      <td>98.0</td>\n",
              "      <td>3.33</td>\n",
              "      <td>0.62</td>\n",
              "      <td>9.8</td>\n",
              "      <td>Normal Quality</td>\n",
              "    </tr>\n",
              "    <tr>\n",
              "      <th>1345</th>\n",
              "      <td>6.7</td>\n",
              "      <td>0.320</td>\n",
              "      <td>2.4</td>\n",
              "      <td>34.0</td>\n",
              "      <td>3.29</td>\n",
              "      <td>0.80</td>\n",
              "      <td>11.6</td>\n",
              "      <td>Normal Quality</td>\n",
              "    </tr>\n",
              "    <tr>\n",
              "      <th>1346</th>\n",
              "      <td>7.2</td>\n",
              "      <td>0.390</td>\n",
              "      <td>2.6</td>\n",
              "      <td>48.0</td>\n",
              "      <td>3.30</td>\n",
              "      <td>0.84</td>\n",
              "      <td>11.5</td>\n",
              "      <td>Normal Quality</td>\n",
              "    </tr>\n",
              "    <tr>\n",
              "      <th>1347</th>\n",
              "      <td>7.5</td>\n",
              "      <td>0.310</td>\n",
              "      <td>2.4</td>\n",
              "      <td>60.0</td>\n",
              "      <td>3.34</td>\n",
              "      <td>0.85</td>\n",
              "      <td>11.4</td>\n",
              "      <td>Normal Quality</td>\n",
              "    </tr>\n",
              "    <tr>\n",
              "      <th>1348</th>\n",
              "      <td>5.8</td>\n",
              "      <td>0.610</td>\n",
              "      <td>1.8</td>\n",
              "      <td>28.0</td>\n",
              "      <td>3.55</td>\n",
              "      <td>0.66</td>\n",
              "      <td>10.9</td>\n",
              "      <td>Normal Quality</td>\n",
              "    </tr>\n",
              "    <tr>\n",
              "      <th>1349</th>\n",
              "      <td>7.2</td>\n",
              "      <td>0.660</td>\n",
              "      <td>2.5</td>\n",
              "      <td>102.0</td>\n",
              "      <td>3.27</td>\n",
              "      <td>0.78</td>\n",
              "      <td>12.8</td>\n",
              "      <td>Normal Quality</td>\n",
              "    </tr>\n",
              "    <tr>\n",
              "      <th>1350</th>\n",
              "      <td>6.6</td>\n",
              "      <td>0.725</td>\n",
              "      <td>7.8</td>\n",
              "      <td>79.0</td>\n",
              "      <td>3.29</td>\n",
              "      <td>0.54</td>\n",
              "      <td>9.2</td>\n",
              "      <td>Normal Quality</td>\n",
              "    </tr>\n",
              "    <tr>\n",
              "      <th>1351</th>\n",
              "      <td>6.3</td>\n",
              "      <td>0.550</td>\n",
              "      <td>1.8</td>\n",
              "      <td>35.0</td>\n",
              "      <td>3.32</td>\n",
              "      <td>0.82</td>\n",
              "      <td>11.6</td>\n",
              "      <td>Normal Quality</td>\n",
              "    </tr>\n",
              "    <tr>\n",
              "      <th>1352</th>\n",
              "      <td>5.4</td>\n",
              "      <td>0.740</td>\n",
              "      <td>1.7</td>\n",
              "      <td>26.0</td>\n",
              "      <td>3.67</td>\n",
              "      <td>0.56</td>\n",
              "      <td>11.6</td>\n",
              "      <td>Normal Quality</td>\n",
              "    </tr>\n",
              "    <tr>\n",
              "      <th>1353</th>\n",
              "      <td>6.3</td>\n",
              "      <td>0.510</td>\n",
              "      <td>2.3</td>\n",
              "      <td>40.0</td>\n",
              "      <td>3.42</td>\n",
              "      <td>0.75</td>\n",
              "      <td>11.0</td>\n",
              "      <td>Normal Quality</td>\n",
              "    </tr>\n",
              "    <tr>\n",
              "      <th>1354</th>\n",
              "      <td>6.8</td>\n",
              "      <td>0.620</td>\n",
              "      <td>1.9</td>\n",
              "      <td>38.0</td>\n",
              "      <td>3.42</td>\n",
              "      <td>0.82</td>\n",
              "      <td>9.5</td>\n",
              "      <td>Normal Quality</td>\n",
              "    </tr>\n",
              "    <tr>\n",
              "      <th>1355</th>\n",
              "      <td>6.2</td>\n",
              "      <td>0.600</td>\n",
              "      <td>2.0</td>\n",
              "      <td>44.0</td>\n",
              "      <td>3.45</td>\n",
              "      <td>0.58</td>\n",
              "      <td>10.5</td>\n",
              "      <td>Normal Quality</td>\n",
              "    </tr>\n",
              "    <tr>\n",
              "      <th>1356</th>\n",
              "      <td>5.9</td>\n",
              "      <td>0.550</td>\n",
              "      <td>2.2</td>\n",
              "      <td>51.0</td>\n",
              "      <td>3.52</td>\n",
              "      <td>0.76</td>\n",
              "      <td>11.2</td>\n",
              "      <td>Normal Quality</td>\n",
              "    </tr>\n",
              "    <tr>\n",
              "      <th>1357</th>\n",
              "      <td>5.9</td>\n",
              "      <td>0.645</td>\n",
              "      <td>2.0</td>\n",
              "      <td>44.0</td>\n",
              "      <td>3.57</td>\n",
              "      <td>0.71</td>\n",
              "      <td>10.2</td>\n",
              "      <td>Normal Quality</td>\n",
              "    </tr>\n",
              "    <tr>\n",
              "      <th>1358</th>\n",
              "      <td>6.0</td>\n",
              "      <td>0.310</td>\n",
              "      <td>3.6</td>\n",
              "      <td>42.0</td>\n",
              "      <td>3.39</td>\n",
              "      <td>0.66</td>\n",
              "      <td>11.0</td>\n",
              "      <td>Normal Quality</td>\n",
              "    </tr>\n",
              "  </tbody>\n",
              "</table>\n",
              "<p>1359 rows × 8 columns</p>\n",
              "</div>"
            ],
            "text/plain": [
              "      fixed acidity  volatile acidity  ...  alcohol        category\n",
              "0               7.4             0.700  ...      9.4  Normal Quality\n",
              "1               7.8             0.880  ...      9.8  Normal Quality\n",
              "2               7.8             0.760  ...      9.8  Normal Quality\n",
              "3              11.2             0.280  ...      9.8  Normal Quality\n",
              "4               7.4             0.660  ...      9.4  Normal Quality\n",
              "5               7.9             0.600  ...      9.4  Normal Quality\n",
              "6               7.3             0.650  ...     10.0  Normal Quality\n",
              "7               7.8             0.580  ...      9.5  Normal Quality\n",
              "8               7.5             0.500  ...     10.5  Normal Quality\n",
              "9               6.7             0.580  ...      9.2  Normal Quality\n",
              "10              5.6             0.615  ...      9.9  Normal Quality\n",
              "11              7.8             0.610  ...      9.1  Normal Quality\n",
              "12              8.9             0.620  ...      9.2  Normal Quality\n",
              "13              8.9             0.620  ...      9.2  Normal Quality\n",
              "14              8.5             0.280  ...     10.5  Normal Quality\n",
              "15              8.1             0.560  ...      9.3  Normal Quality\n",
              "16              7.4             0.590  ...      9.0     Low Quality\n",
              "17              7.9             0.320  ...      9.2  Normal Quality\n",
              "18              8.9             0.220  ...      9.4  Normal Quality\n",
              "19              7.6             0.390  ...      9.7  Normal Quality\n",
              "20              7.9             0.430  ...      9.5  Normal Quality\n",
              "21              8.5             0.490  ...      9.4  Normal Quality\n",
              "22              6.9             0.400  ...      9.7  Normal Quality\n",
              "23              6.3             0.390  ...      9.3  Normal Quality\n",
              "24              7.6             0.410  ...      9.5  Normal Quality\n",
              "25              7.1             0.710  ...      9.4  Normal Quality\n",
              "26              7.8             0.645  ...      9.8  Normal Quality\n",
              "27              6.7             0.675  ...     10.1  Normal Quality\n",
              "28              6.9             0.685  ...     10.6  Normal Quality\n",
              "29              8.3             0.655  ...      9.8  Normal Quality\n",
              "...             ...               ...  ...      ...             ...\n",
              "1329            6.7             0.160  ...     11.2  Normal Quality\n",
              "1330            7.0             0.560  ...      9.2  Normal Quality\n",
              "1331            6.2             0.510  ...     11.5  Normal Quality\n",
              "1332            6.4             0.360  ...     12.4  Normal Quality\n",
              "1333            6.4             0.380  ...     11.1  Normal Quality\n",
              "1334            7.3             0.690  ...      9.5  Normal Quality\n",
              "1335            6.0             0.580  ...     12.5  Normal Quality\n",
              "1336            5.6             0.310  ...     10.5  Normal Quality\n",
              "1337            7.5             0.520  ...     11.8  Normal Quality\n",
              "1338            8.0             0.300  ...     10.8  Normal Quality\n",
              "1339            6.2             0.700  ...     11.9  Normal Quality\n",
              "1340            6.8             0.670  ...     11.3  Normal Quality\n",
              "1341            6.2             0.560  ...     11.3  Normal Quality\n",
              "1342            7.4             0.350  ...     11.9  Normal Quality\n",
              "1343            6.1             0.715  ...     11.9  Normal Quality\n",
              "1344            6.2             0.460  ...      9.8  Normal Quality\n",
              "1345            6.7             0.320  ...     11.6  Normal Quality\n",
              "1346            7.2             0.390  ...     11.5  Normal Quality\n",
              "1347            7.5             0.310  ...     11.4  Normal Quality\n",
              "1348            5.8             0.610  ...     10.9  Normal Quality\n",
              "1349            7.2             0.660  ...     12.8  Normal Quality\n",
              "1350            6.6             0.725  ...      9.2  Normal Quality\n",
              "1351            6.3             0.550  ...     11.6  Normal Quality\n",
              "1352            5.4             0.740  ...     11.6  Normal Quality\n",
              "1353            6.3             0.510  ...     11.0  Normal Quality\n",
              "1354            6.8             0.620  ...      9.5  Normal Quality\n",
              "1355            6.2             0.600  ...     10.5  Normal Quality\n",
              "1356            5.9             0.550  ...     11.2  Normal Quality\n",
              "1357            5.9             0.645  ...     10.2  Normal Quality\n",
              "1358            6.0             0.310  ...     11.0  Normal Quality\n",
              "\n",
              "[1359 rows x 8 columns]"
            ]
          },
          "metadata": {
            "tags": []
          },
          "execution_count": 30
        }
      ]
    },
    {
      "cell_type": "code",
      "metadata": {
        "id": "7FG6_YfDARhO",
        "colab_type": "code",
        "colab": {}
      },
      "source": [
        "from imblearn.under_sampling import ClusterCentroids\n",
        "from imblearn.over_sampling import SMOTE\n",
        "# under sample \"2\" ；\n",
        "# over sample \"1\", \"0\"\n",
        "smt = ClusterCentroids(ratio={2:400})\n",
        "X_sm, y_sm = smt.fit_sample(x_train, y_train)\n",
        "smt2 = SMOTE(ratio={0: 400, 1: 400})\n",
        "x_sm2, y_sm2 = smt2.fit_sample(X_sm, y_sm)\n",
        "\n"
      ],
      "execution_count": 0,
      "outputs": []
    },
    {
      "cell_type": "code",
      "metadata": {
        "id": "X7qDJ5GbXdkx",
        "colab_type": "code",
        "outputId": "82f4bfc9-557e-4ad1-9072-ea25fc52b7d8",
        "colab": {
          "base_uri": "https://localhost:8080/",
          "height": 129
        }
      },
      "source": [
        "\n",
        "\n",
        "pip install six"
      ],
      "execution_count": 35,
      "outputs": [
        {
          "output_type": "error",
          "ename": "SyntaxError",
          "evalue": "ignored",
          "traceback": [
            "\u001b[0;36m  File \u001b[0;32m\"<ipython-input-35-cdc4852d4386>\"\u001b[0;36m, line \u001b[0;32m3\u001b[0m\n\u001b[0;31m    pip install six\u001b[0m\n\u001b[0m              ^\u001b[0m\n\u001b[0;31mSyntaxError\u001b[0m\u001b[0;31m:\u001b[0m invalid syntax\n"
          ]
        }
      ]
    },
    {
      "cell_type": "code",
      "metadata": {
        "id": "uEinxxyIZ247",
        "colab_type": "code",
        "colab": {
          "base_uri": "https://localhost:8080/",
          "height": 34
        },
        "outputId": "4156c305-ffac-4c22-c508-262519dae3ed"
      },
      "source": [
        "y_sm2.shape"
      ],
      "execution_count": 36,
      "outputs": [
        {
          "output_type": "execute_result",
          "data": {
            "text/plain": [
              "(1200,)"
            ]
          },
          "metadata": {
            "tags": []
          },
          "execution_count": 36
        }
      ]
    },
    {
      "cell_type": "code",
      "metadata": {
        "id": "BPl22GH4AUAQ",
        "colab_type": "code",
        "outputId": "b7891bf9-c9e3-4c55-873d-e084f4e67851",
        "colab": {
          "base_uri": "https://localhost:8080/",
          "height": 34
        }
      },
      "source": [
        "np.unique(y_train)  ## purai array ma unique values haru matrai select garne"
      ],
      "execution_count": 37,
      "outputs": [
        {
          "output_type": "execute_result",
          "data": {
            "text/plain": [
              "array([0, 1, 2])"
            ]
          },
          "metadata": {
            "tags": []
          },
          "execution_count": 37
        }
      ]
    },
    {
      "cell_type": "code",
      "metadata": {
        "id": "vfAmXnmQXrJ4",
        "colab_type": "code",
        "outputId": "b1fd81da-deba-4a23-f672-78bc04630ef9",
        "colab": {
          "base_uri": "https://localhost:8080/",
          "height": 34
        }
      },
      "source": [
        "np.unique(y_sm2, return_counts=True)"
      ],
      "execution_count": 38,
      "outputs": [
        {
          "output_type": "execute_result",
          "data": {
            "text/plain": [
              "(array([0, 1, 2]), array([400, 400, 400]))"
            ]
          },
          "metadata": {
            "tags": []
          },
          "execution_count": 38
        }
      ]
    },
    {
      "cell_type": "code",
      "metadata": {
        "id": "Xk9N9AujAa-P",
        "colab_type": "code",
        "colab": {}
      },
      "source": [
        "\n",
        "\n",
        "# Set model parameters and initial values\n",
        "C = 1.2\n",
        "m = len(x_train)\n",
        "initial_alphas = np.zeros(m)\n",
        "initial_b = 0.0\n",
        "# Set tolerances\n",
        "tol = 0.01 # error tolerance\n",
        "eps = 0.01 # alpha tolerance"
      ],
      "execution_count": 0,
      "outputs": []
    },
    {
      "cell_type": "code",
      "metadata": {
        "id": "Dhm4z9UAAenc",
        "colab_type": "code",
        "colab": {}
      },
      "source": [
        "\n",
        "import copy"
      ],
      "execution_count": 0,
      "outputs": []
    },
    {
      "cell_type": "markdown",
      "metadata": {
        "id": "LlvEE6jyAmYr",
        "colab_type": "text"
      },
      "source": [
        "Start the training"
      ]
    },
    {
      "cell_type": "code",
      "metadata": {
        "id": "zk6Ff-alAhmC",
        "colab_type": "code",
        "outputId": "3ee4da42-039e-4f0c-9d5f-5c47a1172d4f",
        "colab": {
          "base_uri": "https://localhost:8080/",
          "height": 170
        }
      },
      "source": [
        "labels = np.unique(y_train)\n",
        "classifiers=[]\n",
        "# iterate over all labels ..\n",
        "for label in labels:# Set model parameters and initial values\n",
        "    # Set model parameters and initial values\n",
        "    C = 1.2\n",
        "    m = len(x_train)\n",
        "    initial_alphas = np.zeros(m)\n",
        "    initial_b = 0.0\n",
        "# Set tolerances\n",
        "    tol = 0.01 # error tolerance\n",
        "    eps = 0.01 # alpha tolerance \n",
        "    print (\"Classifier\",label,\" vs Rest\")\n",
        "    yi = np.array(y_train)\n",
        "    yi[yi != label] = -1.0\n",
        "    yi[yi == label] = 1.0\n",
        "    print(np.unique(yi))\n",
        "    print(yi.shape,x_train.shape)\n",
        "    model = SMOModel(x_train, yi, C,linear_kernel,initial_alphas, initial_b, np.zeros(m))\n",
        "    # Initialize error cache\n",
        "    initial_error = decision_function(model.alphas, model.y, model.kernel,\n",
        "                                  model.X, model.X, model.b) - model.y\n",
        "    model.errors = initial_error\n",
        "    output = train(model)\n",
        "    classifiers.append(copy.deepcopy(model))"
      ],
      "execution_count": 41,
      "outputs": [
        {
          "output_type": "stream",
          "text": [
            "Classifier 0  vs Rest\n",
            "[-1  1]\n",
            "(1087,) (1087, 7)\n",
            "Classifier 1  vs Rest\n",
            "[-1  1]\n",
            "(1087,) (1087, 7)\n",
            "Classifier 2  vs Rest\n",
            "[-1  1]\n",
            "(1087,) (1087, 7)\n"
          ],
          "name": "stdout"
        }
      ]
    },
    {
      "cell_type": "code",
      "metadata": {
        "id": "_MGFzofyFIrX",
        "colab_type": "code",
        "outputId": "814513d9-98ed-483a-9f04-099abe90c0f6",
        "colab": {
          "base_uri": "https://localhost:8080/",
          "height": 34
        }
      },
      "source": [
        "\n",
        "print(\"Total no of classifier created \",len(classifiers))"
      ],
      "execution_count": 42,
      "outputs": [
        {
          "output_type": "stream",
          "text": [
            "Total no of classifier created  3\n"
          ],
          "name": "stdout"
        }
      ]
    },
    {
      "cell_type": "code",
      "metadata": {
        "id": "AEVbIv4OAoD4",
        "colab_type": "code",
        "colab": {}
      },
      "source": [
        "#PREDICTING PART"
      ],
      "execution_count": 0,
      "outputs": []
    },
    {
      "cell_type": "code",
      "metadata": {
        "id": "0ZNzz4onVA3A",
        "colab_type": "code",
        "outputId": "c4292679-7769-485d-ac28-f5d1d0f22c10",
        "colab": {
          "base_uri": "https://localhost:8080/",
          "height": 34
        }
      },
      "source": [
        "\n",
        "labels"
      ],
      "execution_count": 44,
      "outputs": [
        {
          "output_type": "execute_result",
          "data": {
            "text/plain": [
              "array([0, 1, 2])"
            ]
          },
          "metadata": {
            "tags": []
          },
          "execution_count": 44
        }
      ]
    },
    {
      "cell_type": "code",
      "metadata": {
        "id": "Zxt3ay0DVDhO",
        "colab_type": "code",
        "outputId": "94682d06-a75d-4836-d165-7c4eb6fa62ef",
        "colab": {
          "base_uri": "https://localhost:8080/",
          "height": 34
        }
      },
      "source": [
        "# we have to return prediction for x_test array of 11 features Dimension[x,11]\n",
        "n = x_test.shape[0]\n",
        "scores = np.zeros((n, len(labels)))\n",
        "scores.shape #each row of scores will store score(probability) for each label(class) and we will return largest one"
      ],
      "execution_count": 45,
      "outputs": [
        {
          "output_type": "execute_result",
          "data": {
            "text/plain": [
              "(272, 3)"
            ]
          },
          "metadata": {
            "tags": []
          },
          "execution_count": 45
        }
      ]
    },
    {
      "cell_type": "code",
      "metadata": {
        "id": "AQfMniFBVG33",
        "colab_type": "code",
        "colab": {}
      },
      "source": [
        "\n",
        "for i in range(len(labels)):\n",
        "    model = classifiers[i]\n",
        "    scores[:,i] = decision_function(model.alphas, model.y, model.kernel,model.X, x_test, model.b)"
      ],
      "execution_count": 0,
      "outputs": []
    },
    {
      "cell_type": "code",
      "metadata": {
        "id": "KXYrYZXNMcQa",
        "colab_type": "code",
        "colab": {}
      },
      "source": [
        ""
      ],
      "execution_count": 0,
      "outputs": []
    },
    {
      "cell_type": "code",
      "metadata": {
        "id": "cYy96GhUVKb3",
        "colab_type": "code",
        "colab": {
          "base_uri": "https://localhost:8080/",
          "height": 238
        },
        "outputId": "c7bbb9b4-45aa-44fd-d8ff-73a9bd0248ad"
      },
      "source": [
        "\n",
        "\n",
        "\n",
        "predictions = np.argmax(scores, axis=1)\n",
        "#scores\n",
        "predictions\n"
      ],
      "execution_count": 72,
      "outputs": [
        {
          "output_type": "execute_result",
          "data": {
            "text/plain": [
              "array([2, 2, 2, 2, 2, 2, 2, 2, 2, 2, 2, 2, 2, 2, 2, 2, 2, 2, 2, 2, 2, 2,\n",
              "       2, 2, 2, 2, 2, 2, 2, 2, 2, 2, 2, 2, 2, 2, 2, 2, 2, 2, 2, 2, 2, 2,\n",
              "       2, 2, 2, 2, 2, 2, 2, 2, 2, 2, 2, 2, 2, 2, 2, 2, 2, 2, 2, 2, 2, 2,\n",
              "       2, 2, 2, 2, 2, 2, 2, 2, 2, 2, 2, 2, 2, 2, 2, 2, 2, 2, 2, 2, 2, 2,\n",
              "       2, 2, 2, 2, 1, 2, 2, 2, 2, 2, 2, 2, 2, 2, 2, 2, 2, 2, 2, 2, 2, 2,\n",
              "       2, 2, 2, 2, 2, 2, 2, 2, 2, 2, 2, 2, 2, 2, 2, 2, 2, 2, 2, 2, 2, 2,\n",
              "       2, 2, 2, 1, 2, 2, 2, 2, 2, 2, 2, 2, 2, 2, 2, 2, 2, 2, 2, 2, 2, 2,\n",
              "       2, 2, 2, 2, 2, 2, 2, 2, 2, 2, 2, 2, 2, 2, 2, 2, 2, 2, 2, 2, 2, 2,\n",
              "       2, 2, 2, 2, 2, 2, 2, 2, 2, 2, 2, 2, 2, 2, 2, 2, 2, 2, 2, 2, 2, 2,\n",
              "       2, 2, 2, 2, 2, 2, 2, 2, 2, 2, 2, 2, 2, 2, 2, 2, 2, 2, 2, 2, 2, 2,\n",
              "       2, 2, 2, 2, 2, 2, 2, 2, 2, 2, 2, 2, 2, 2, 2, 2, 2, 2, 2, 2, 2, 2,\n",
              "       2, 2, 2, 2, 2, 2, 2, 2, 2, 2, 2, 2, 2, 2, 2, 2, 2, 2, 2, 2, 2, 2,\n",
              "       2, 2, 2, 2, 2, 2, 2, 2])"
            ]
          },
          "metadata": {
            "tags": []
          },
          "execution_count": 72
        }
      ]
    },
    {
      "cell_type": "code",
      "metadata": {
        "id": "eL1ztJT4Nham",
        "colab_type": "code",
        "colab": {
          "base_uri": "https://localhost:8080/",
          "height": 68
        },
        "outputId": "b1ccd951-7930-4462-c11f-678925d474e8"
      },
      "source": [
        "from sklearn.metrics import confusion_matrix\n",
        "confusion_matrix(y_test, predictedLabels)\n"
      ],
      "execution_count": 75,
      "outputs": [
        {
          "output_type": "execute_result",
          "data": {
            "text/plain": [
              "array([[  0,   0,   3],\n",
              "       [  0,   1,  14],\n",
              "       [  0,   1, 253]])"
            ]
          },
          "metadata": {
            "tags": []
          },
          "execution_count": 75
        }
      ]
    },
    {
      "cell_type": "code",
      "metadata": {
        "id": "8Q0N5QxGmCEJ",
        "colab_type": "code",
        "colab": {}
      },
      "source": [
        "import numpy as np\n",
        "import pandas as pd\n",
        "import seaborn as sns\n",
        "import matplotlib.pyplot as plt"
      ],
      "execution_count": 0,
      "outputs": []
    },
    {
      "cell_type": "code",
      "metadata": {
        "id": "HFnRG9C2Nhi8",
        "colab_type": "code",
        "colab": {
          "base_uri": "https://localhost:8080/",
          "height": 346
        },
        "outputId": "0e42e17b-c71e-4750-9eda-4413794a957a"
      },
      "source": [
        "cm =confusion_matrix(y_test,predictedLabels)\n",
        "print(cm)\n",
        "ax= plt.subplot()\n",
        "sns.heatmap(cm, annot=True, ax = ax, fmt='g'); #annot=True to annotate cells\n",
        "\n",
        "# labels, title and ticks\n",
        "ax.set_xlabel('Predicted labels');ax.set_ylabel('True labels'); \n",
        "ax.set_title(' Testing after resample Confusion Matrix'); \n",
        "ax.xaxis.set_ticklabels(['high', 'low','normal']); ax.yaxis.set_ticklabels(['high', 'low','normal']);\n"
      ],
      "execution_count": 78,
      "outputs": [
        {
          "output_type": "stream",
          "text": [
            "[[  0   0   3]\n",
            " [  0   1  14]\n",
            " [  0   1 253]]\n"
          ],
          "name": "stdout"
        },
        {
          "output_type": "display_data",
          "data": {
            "image/png": "[encoded data removed]",
            "text/plain": [
              "<Figure size 432x288 with 2 Axes>"
            ]
          },
          "metadata": {
            "tags": []
          }
        }
      ]
    },
    {
      "cell_type": "code",
      "metadata": {
        "id": "uKVBSlOiNw_T",
        "colab_type": "code",
        "colab": {}
      },
      "source": [
        ""
      ],
      "execution_count": 0,
      "outputs": []
    },
    {
      "cell_type": "code",
      "metadata": {
        "id": "M0OG8mfnOmQ0",
        "colab_type": "code",
        "colab": {}
      },
      "source": [
        ""
      ],
      "execution_count": 0,
      "outputs": []
    },
    {
      "cell_type": "code",
      "metadata": {
        "id": "m8Pl_q9YOmaV",
        "colab_type": "code",
        "colab": {}
      },
      "source": [
        ""
      ],
      "execution_count": 0,
      "outputs": []
    },
    {
      "cell_type": "code",
      "metadata": {
        "id": "Dq_rP-uvVNa0",
        "colab_type": "code",
        "outputId": "e71483a6-16b6-4e04-ea99-af0c6f61c16c",
        "colab": {
          "base_uri": "https://localhost:8080/",
          "height": 1000
        }
      },
      "source": [
        "\n",
        "for prediction in predictions:\n",
        "    print(labels[prediction])"
      ],
      "execution_count": 48,
      "outputs": [
        {
          "output_type": "stream",
          "text": [
            "2\n",
            "2\n",
            "2\n",
            "2\n",
            "2\n",
            "2\n",
            "2\n",
            "2\n",
            "2\n",
            "2\n",
            "2\n",
            "2\n",
            "2\n",
            "2\n",
            "2\n",
            "2\n",
            "2\n",
            "2\n",
            "2\n",
            "2\n",
            "2\n",
            "2\n",
            "2\n",
            "2\n",
            "2\n",
            "2\n",
            "2\n",
            "2\n",
            "2\n",
            "2\n",
            "2\n",
            "2\n",
            "2\n",
            "2\n",
            "2\n",
            "2\n",
            "2\n",
            "2\n",
            "2\n",
            "2\n",
            "2\n",
            "2\n",
            "2\n",
            "2\n",
            "2\n",
            "2\n",
            "2\n",
            "2\n",
            "2\n",
            "2\n",
            "2\n",
            "2\n",
            "2\n",
            "2\n",
            "2\n",
            "2\n",
            "2\n",
            "2\n",
            "2\n",
            "2\n",
            "2\n",
            "2\n",
            "2\n",
            "2\n",
            "2\n",
            "2\n",
            "2\n",
            "2\n",
            "2\n",
            "2\n",
            "2\n",
            "2\n",
            "2\n",
            "2\n",
            "2\n",
            "2\n",
            "2\n",
            "2\n",
            "2\n",
            "2\n",
            "2\n",
            "2\n",
            "2\n",
            "2\n",
            "2\n",
            "2\n",
            "2\n",
            "2\n",
            "2\n",
            "2\n",
            "2\n",
            "2\n",
            "1\n",
            "2\n",
            "2\n",
            "2\n",
            "2\n",
            "2\n",
            "2\n",
            "2\n",
            "2\n",
            "2\n",
            "2\n",
            "2\n",
            "2\n",
            "2\n",
            "2\n",
            "2\n",
            "2\n",
            "2\n",
            "2\n",
            "2\n",
            "2\n",
            "2\n",
            "2\n",
            "2\n",
            "2\n",
            "2\n",
            "2\n",
            "2\n",
            "2\n",
            "2\n",
            "2\n",
            "2\n",
            "2\n",
            "2\n",
            "2\n",
            "2\n",
            "2\n",
            "2\n",
            "2\n",
            "2\n",
            "2\n",
            "2\n",
            "2\n",
            "1\n",
            "2\n",
            "2\n",
            "2\n",
            "2\n",
            "2\n",
            "2\n",
            "2\n",
            "2\n",
            "2\n",
            "2\n",
            "2\n",
            "2\n",
            "2\n",
            "2\n",
            "2\n",
            "2\n",
            "2\n",
            "2\n",
            "2\n",
            "2\n",
            "2\n",
            "2\n",
            "2\n",
            "2\n",
            "2\n",
            "2\n",
            "2\n",
            "2\n",
            "2\n",
            "2\n",
            "2\n",
            "2\n",
            "2\n",
            "2\n",
            "2\n",
            "2\n",
            "2\n",
            "2\n",
            "2\n",
            "2\n",
            "2\n",
            "2\n",
            "2\n",
            "2\n",
            "2\n",
            "2\n",
            "2\n",
            "2\n",
            "2\n",
            "2\n",
            "2\n",
            "2\n",
            "2\n",
            "2\n",
            "2\n",
            "2\n",
            "2\n",
            "2\n",
            "2\n",
            "2\n",
            "2\n",
            "2\n",
            "2\n",
            "2\n",
            "2\n",
            "2\n",
            "2\n",
            "2\n",
            "2\n",
            "2\n",
            "2\n",
            "2\n",
            "2\n",
            "2\n",
            "2\n",
            "2\n",
            "2\n",
            "2\n",
            "2\n",
            "2\n",
            "2\n",
            "2\n",
            "2\n",
            "2\n",
            "2\n",
            "2\n",
            "2\n",
            "2\n",
            "2\n",
            "2\n",
            "2\n",
            "2\n",
            "2\n",
            "2\n",
            "2\n",
            "2\n",
            "2\n",
            "2\n",
            "2\n",
            "2\n",
            "2\n",
            "2\n",
            "2\n",
            "2\n",
            "2\n",
            "2\n",
            "2\n",
            "2\n",
            "2\n",
            "2\n",
            "2\n",
            "2\n",
            "2\n",
            "2\n",
            "2\n",
            "2\n",
            "2\n",
            "2\n",
            "2\n",
            "2\n",
            "2\n",
            "2\n",
            "2\n",
            "2\n",
            "2\n",
            "2\n",
            "2\n",
            "2\n",
            "2\n",
            "2\n",
            "2\n",
            "2\n",
            "2\n",
            "2\n",
            "2\n",
            "2\n"
          ],
          "name": "stdout"
        }
      ]
    },
    {
      "cell_type": "code",
      "metadata": {
        "id": "mPou0cOaVPqk",
        "colab_type": "code",
        "colab": {}
      },
      "source": [
        "predictedLabels =[]\n",
        "for prediction in predictions:\n",
        "    predictedLabels.append(labels[prediction])"
      ],
      "execution_count": 0,
      "outputs": []
    },
    {
      "cell_type": "code",
      "metadata": {
        "id": "nZ8fC2HdVTiL",
        "colab_type": "code",
        "outputId": "438753f2-9670-422a-b385-e848b20c7182",
        "colab": {
          "base_uri": "https://localhost:8080/",
          "height": 34
        }
      },
      "source": [
        "\n",
        "\n",
        "## Accuracy Measure\n",
        "correct=0\n",
        "for i in range(len(predictedLabels)):\n",
        "    if(predictedLabels[i]==y_test[i]):\n",
        "        correct+=1\n",
        "print(\"Accuracy : \",correct,\" out of \",len(predictedLabels))"
      ],
      "execution_count": 51,
      "outputs": [
        {
          "output_type": "stream",
          "text": [
            "Accuracy :  254  out of  272\n"
          ],
          "name": "stdout"
        }
      ]
    },
    {
      "cell_type": "code",
      "metadata": {
        "id": "a-xnLJZgVWSK",
        "colab_type": "code",
        "colab": {}
      },
      "source": [
        "from sklearn.metrics import classification_report, confusion_matrix\n",
        "# cmatrix = confusion_matrix(y_test[i],predictedLabels)\n",
        "# cmatrix"
      ],
      "execution_count": 0,
      "outputs": []
    },
    {
      "cell_type": "code",
      "metadata": {
        "id": "63wZdPIwrKId",
        "colab_type": "code",
        "colab": {}
      },
      "source": [
        "pred=output"
      ],
      "execution_count": 0,
      "outputs": []
    },
    {
      "cell_type": "code",
      "metadata": {
        "id": "SBmBQW4aJhGo",
        "colab_type": "code",
        "colab": {}
      },
      "source": [
        "\n",
        "# Set model parameters and initial values\n",
        "C = 1.2\n",
        "m = len(x_sm2)\n",
        "initial_alphas = np.zeros(m)\n",
        "initial_b = 0.0\n",
        "# Set tolerances\n",
        "tol = 0.01 # error tolerance\n",
        "eps = 0.01 # alpha tolerance"
      ],
      "execution_count": 0,
      "outputs": []
    },
    {
      "cell_type": "code",
      "metadata": {
        "id": "0KORNd_om4mt",
        "colab_type": "code",
        "colab": {}
      },
      "source": [
        "import copy"
      ],
      "execution_count": 0,
      "outputs": []
    },
    {
      "cell_type": "code",
      "metadata": {
        "id": "Daatmuu6LnnZ",
        "colab_type": "code",
        "colab": {
          "base_uri": "https://localhost:8080/",
          "height": 170
        },
        "outputId": "87adced7-772d-458f-a55a-d265f0b1f741"
      },
      "source": [
        "labels = np.unique(y_sm2)\n",
        "classifiers=[]\n",
        "# iterate over all labels ..\n",
        "for label in labels:# Set model parameters and initial values\n",
        "    # Set model parameters and initial values\n",
        "    C = 1.2\n",
        "    m = len(x_sm2)\n",
        "    initial_alphas = np.zeros(m)\n",
        "    initial_b = 0.0\n",
        "# Set tolerances\n",
        "    tol = 0.01 # error tolerance\n",
        "    eps = 0.01 # alpha tolerance \n",
        "    print (\"Classifier\",label,\" vs Rest\")\n",
        "    yi = np.array(y_sm2)\n",
        "    yi[yi != label] = -1.0\n",
        "    yi[yi == label] = 1.0\n",
        "    print(np.unique(yi))\n",
        "    print(yi.shape,x_sm2.shape)\n",
        "    model = SMOModel(x_sm2, yi, C,linear_kernel,initial_alphas, initial_b, np.zeros(m))\n",
        "    # Initialize error cache\n",
        "    initial_error = decision_function(model.alphas, model.y, model.kernel,\n",
        "                                  model.X, model.X, model.b) - model.y\n",
        "    model.errors = initial_error\n",
        "    output = train(model)\n",
        "    classifiers.append(copy.deepcopy(model))"
      ],
      "execution_count": 83,
      "outputs": [
        {
          "output_type": "stream",
          "text": [
            "Classifier 0  vs Rest\n",
            "[-1  1]\n",
            "(1200,) (1200, 7)\n",
            "Classifier 1  vs Rest\n",
            "[-1  1]\n",
            "(1200,) (1200, 7)\n",
            "Classifier 2  vs Rest\n",
            "[-1  1]\n",
            "(1200,) (1200, 7)\n"
          ],
          "name": "stdout"
        }
      ]
    },
    {
      "cell_type": "code",
      "metadata": {
        "id": "RkIyALn17g_L",
        "colab_type": "code",
        "colab": {
          "base_uri": "https://localhost:8080/",
          "height": 180
        },
        "outputId": "d6e86f6a-f785-4316-ce03-8681d4bdcb57"
      },
      "source": [
        "\n"
      ],
      "execution_count": 55,
      "outputs": [
        {
          "output_type": "error",
          "ename": "AttributeError",
          "evalue": "ignored",
          "traceback": [
            "\u001b[0;31m---------------------------------------------------------------------------\u001b[0m",
            "\u001b[0;31mAttributeError\u001b[0m                            Traceback (most recent call last)",
            "\u001b[0;32m<ipython-input-55-afcb98cc8309>\u001b[0m in \u001b[0;36m<module>\u001b[0;34m()\u001b[0m\n\u001b[0;32m----> 1\u001b[0;31m \u001b[0mprint\u001b[0m\u001b[0;34m(\u001b[0m\u001b[0;34m\"traning accuracy\"\u001b[0m\u001b[0;34m,\u001b[0m \u001b[0mmodel\u001b[0m\u001b[0;34m.\u001b[0m\u001b[0mscore\u001b[0m\u001b[0;34m(\u001b[0m\u001b[0mX_train\u001b[0m\u001b[0;34m,\u001b[0m\u001b[0my_train\u001b[0m\u001b[0;34m)\u001b[0m\u001b[0;34m)\u001b[0m\u001b[0;34m\u001b[0m\u001b[0;34m\u001b[0m\u001b[0m\n\u001b[0m\u001b[1;32m      2\u001b[0m \u001b[0mprint\u001b[0m\u001b[0;34m(\u001b[0m\u001b[0;34m\"testing accuracy\"\u001b[0m\u001b[0;34m,\u001b[0m\u001b[0mmodel\u001b[0m\u001b[0;34m.\u001b[0m\u001b[0mscore\u001b[0m\u001b[0;34m(\u001b[0m\u001b[0mX_test\u001b[0m\u001b[0;34m,\u001b[0m\u001b[0my_test\u001b[0m\u001b[0;34m)\u001b[0m\u001b[0;34m)\u001b[0m\u001b[0;34m\u001b[0m\u001b[0;34m\u001b[0m\u001b[0m\n",
            "\u001b[0;31mAttributeError\u001b[0m: 'SMOModel' object has no attribute 'score'"
          ]
        }
      ]
    },
    {
      "cell_type": "code",
      "metadata": {
        "id": "UgNLvCwr7q8T",
        "colab_type": "code",
        "colab": {}
      },
      "source": [
        "\n",
        "for i in range(len(labels)):\n",
        "    model = classifiers[i]\n",
        "    scores[:,i] = decision_function(model.alphas, model.y, model.kernel,model.X, x_test, model.b)"
      ],
      "execution_count": 0,
      "outputs": []
    },
    {
      "cell_type": "code",
      "metadata": {
        "id": "PP_iRDfNtOh9",
        "colab_type": "code",
        "colab": {
          "base_uri": "https://localhost:8080/",
          "height": 238
        },
        "outputId": "937e04b0-7cd6-4861-dee9-5b270601ff7e"
      },
      "source": [
        "\n",
        "predictions = np.argmax(scores, axis=1)\n",
        "#scores\n",
        "predictions\n"
      ],
      "execution_count": 87,
      "outputs": [
        {
          "output_type": "execute_result",
          "data": {
            "text/plain": [
              "array([1, 2, 0, 1, 1, 0, 2, 2, 2, 1, 2, 2, 2, 2, 0, 2, 0, 2, 1, 2, 2, 0,\n",
              "       2, 1, 0, 2, 2, 1, 1, 1, 2, 0, 2, 1, 1, 0, 2, 1, 1, 2, 1, 2, 0, 2,\n",
              "       1, 1, 1, 2, 1, 2, 1, 2, 2, 2, 0, 2, 1, 1, 2, 0, 2, 2, 1, 2, 2, 2,\n",
              "       2, 1, 2, 2, 2, 0, 2, 2, 1, 2, 2, 1, 1, 1, 0, 2, 1, 2, 1, 0, 1, 2,\n",
              "       0, 2, 2, 1, 1, 2, 1, 2, 1, 0, 0, 2, 2, 1, 2, 1, 1, 2, 2, 1, 0, 0,\n",
              "       1, 1, 2, 1, 2, 1, 2, 1, 2, 2, 1, 1, 2, 2, 0, 2, 1, 2, 1, 2, 2, 1,\n",
              "       2, 2, 2, 1, 0, 2, 0, 1, 1, 2, 0, 0, 2, 2, 0, 1, 2, 1, 2, 0, 2, 1,\n",
              "       2, 1, 2, 1, 0, 0, 2, 1, 1, 2, 2, 0, 1, 1, 0, 1, 0, 1, 0, 1, 0, 1,\n",
              "       2, 2, 2, 0, 2, 1, 1, 2, 2, 2, 1, 1, 1, 2, 1, 1, 0, 2, 1, 2, 0, 1,\n",
              "       0, 2, 2, 0, 1, 0, 2, 2, 1, 2, 2, 1, 0, 0, 2, 2, 0, 1, 0, 0, 2, 0,\n",
              "       1, 2, 2, 2, 1, 2, 0, 2, 2, 2, 1, 2, 2, 2, 0, 0, 2, 2, 1, 1, 2, 1,\n",
              "       1, 1, 0, 2, 2, 0, 1, 0, 2, 2, 0, 0, 1, 2, 1, 1, 2, 1, 2, 1, 2, 2,\n",
              "       2, 1, 2, 2, 1, 2, 2, 1])"
            ]
          },
          "metadata": {
            "tags": []
          },
          "execution_count": 87
        }
      ]
    },
    {
      "cell_type": "code",
      "metadata": {
        "id": "12kG7h0Xtllx",
        "colab_type": "code",
        "colab": {}
      },
      "source": [
        "predictedLabels =[]\n",
        "for prediction in predictions:\n",
        "    predictedLabels.append(labels[prediction])"
      ],
      "execution_count": 0,
      "outputs": []
    },
    {
      "cell_type": "code",
      "metadata": {
        "id": "m2-kckdVtmTY",
        "colab_type": "code",
        "colab": {
          "base_uri": "https://localhost:8080/",
          "height": 34
        },
        "outputId": "89de097c-470d-4cd9-f3e1-19fb41fda554"
      },
      "source": [
        "## Accuracy Measure\n",
        "correct=0\n",
        "for i in range(len(predictedLabels)):\n",
        "    if(predictedLabels[i]==y_test[i]):\n",
        "        correct+=1\n",
        "print(\"Accuracy : \",correct,\" out of \",len(predictedLabels))"
      ],
      "execution_count": 89,
      "outputs": [
        {
          "output_type": "stream",
          "text": [
            "Accuracy :  140  out of  272\n"
          ],
          "name": "stdout"
        }
      ]
    },
    {
      "cell_type": "code",
      "metadata": {
        "id": "pLzYaqTLtTXn",
        "colab_type": "code",
        "colab": {
          "base_uri": "https://localhost:8080/",
          "height": 346
        },
        "outputId": "1fd089f9-aa72-40ad-c5f7-04184f8c995b"
      },
      "source": [
        "cm2 =confusion_matrix(y_test,predictedLabels)\n",
        "print(cm2)\n",
        "ax= plt.subplot()\n",
        "sns.heatmap(cm2, annot=True, ax = ax, fmt='g'); #annot=True to annotate cells\n",
        "\n",
        "# labels, title and ticks\n",
        "ax.set_xlabel('Predicted labels');ax.set_ylabel('True labels'); \n",
        "ax.set_title(' Testing after resample Confusion Matrix'); \n",
        "ax.xaxis.set_ticklabels(['high', 'low','normal']); ax.yaxis.set_ticklabels(['high', 'low','normal']);"
      ],
      "execution_count": 92,
      "outputs": [
        {
          "output_type": "stream",
          "text": [
            "[[  3   0   0]\n",
            " [  1  13   1]\n",
            " [ 49  81 124]]\n"
          ],
          "name": "stdout"
        },
        {
          "output_type": "display_data",
          "data": {
            "image/png": "[encoded data removed]",
            "text/plain": [
              "<Figure size 432x288 with 2 Axes>"
            ]
          },
          "metadata": {
            "tags": []
          }
        }
      ]
    },
    {
      "cell_type": "code",
      "metadata": {
        "id": "ZpUC_BjKtbo4",
        "colab_type": "code",
        "colab": {}
      },
      "source": [
        ""
      ],
      "execution_count": 0,
      "outputs": []
    }
  ]
}