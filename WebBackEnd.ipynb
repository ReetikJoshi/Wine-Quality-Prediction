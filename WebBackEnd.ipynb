{
 "cells": [
  {
   "cell_type": "code",
   "execution_count": 1,
   "metadata": {},
   "outputs": [],
   "source": [
    "import numpy as np\n",
    "from sklearn.externals import joblib\n",
    "from sklearn.preprocessing import StandardScaler"
   ]
  },
  {
   "cell_type": "code",
   "execution_count": 2,
   "metadata": {},
   "outputs": [],
   "source": [
    "# import trained model\n",
    "modelred = joblib.load(\"modelred.joblib\")\n",
    "# scalerred = joblib.load(\"scalerred.joblib\")"
   ]
  },
  {
   "cell_type": "code",
   "execution_count": 3,
   "metadata": {},
   "outputs": [
    {
     "name": "stdout",
     "output_type": "stream",
     "text": [
      "[1]\n"
     ]
    }
   ],
   "source": [
    "print(modelred.predict([[6.8,1.020,2,24,3.59,0.55,11.2]]))"
   ]
  },
  {
   "cell_type": "code",
   "execution_count": 4,
   "metadata": {},
   "outputs": [],
   "source": [
    "\n",
    "\n",
    "modelwhite = joblib.load(\"modelwhite.joblib\")\n",
    "scalerwhite = joblib.load(\"scalerwhite.joblib\")"
   ]
  },
  {
   "cell_type": "code",
   "execution_count": 5,
   "metadata": {},
   "outputs": [],
   "source": [
    "quality = [\"High Quality\",\"Low Quality\",\"Normal Quality\"]\n"
   ]
  },
  {
   "cell_type": "code",
   "execution_count": 6,
   "metadata": {},
   "outputs": [
    {
     "data": {
      "text/plain": [
       "'High Quality'"
      ]
     },
     "execution_count": 6,
     "metadata": {},
     "output_type": "execute_result"
    }
   ],
   "source": [
    "quality[0]"
   ]
  },
  {
   "cell_type": "code",
   "execution_count": 7,
   "metadata": {},
   "outputs": [],
   "source": [
    "from flask import Flask, jsonify, request, render_template"
   ]
  },
  {
   "cell_type": "code",
   "execution_count": 8,
   "metadata": {},
   "outputs": [],
   "source": [
    "app = Flask(__name__)"
   ]
  },
  {
   "cell_type": "code",
   "execution_count": null,
   "metadata": {},
   "outputs": [],
   "source": [
    "\n",
    "\n",
    "@app.route(\"/\", methods=[\"POST\"])\n",
    "def selectwine():\n",
    "    #authenticate first\n",
    "    default_name = \"s\"\n",
    "    email = request.form.get('email', default_name)\n",
    "    password = request.form.get('password', default_name)\n",
    "    if(email == \"test100@gmail.com\" and password == \"password\" ):\n",
    "        return render_template(\"selectwine.html\")\n",
    "    else:\n",
    "        return render_template(\"wine.html\", err = \"wrong username or password\")"
   ]
  },
  {
   "cell_type": "code",
   "execution_count": null,
   "metadata": {},
   "outputs": [],
   "source": [
    "@app.route(\"/\", methods=[\"GET\"])\n",
    "def index():\n",
    "    return render_template(\"wine.html\")"
   ]
  },
  {
   "cell_type": "code",
   "execution_count": null,
   "metadata": {},
   "outputs": [],
   "source": [
    "@app.route(\"/red\", methods= [\"GET\"])\n",
    "def redwine():\n",
    "    return render_template(\"redparameter.html\")"
   ]
  },
  {
   "cell_type": "code",
   "execution_count": null,
   "metadata": {},
   "outputs": [],
   "source": []
  },
  {
   "cell_type": "code",
   "execution_count": null,
   "metadata": {},
   "outputs": [],
   "source": [
    "@app.route(\"/redwinepredict\", methods= [\"POST\"])\n",
    "def redwinepredict():\n",
    "    default_name = 0\n",
    "    a = request.form.get('a', default_name)\n",
    "    b = request.form.get('b', default_name)\n",
    "    c = request.form.get('c', default_name)\n",
    "    d = request.form.get('d', default_name)\n",
    "    e = request.form.get('e', default_name)\n",
    "    f = request.form.get('f', default_name)\n",
    "    g = request.form.get('g', default_name)          \n",
    "\n",
    "    \n",
    "    inp = np.array([[a,b,c,d,e,f,g]])\n",
    "    print(\"INPUT : \",inp)\n",
    "    #Applying Standard scaling to get optimized result\n",
    "    \n",
    "#     inps = scalerred.transform(inp)\n",
    "    \n",
    "    prediction = modelred.predict(inp)\n",
    "    print(prediction)\n",
    "    return render_template(\"prediction.html\",quality = quality[int(prediction)])\n",
    "    "
   ]
  },
  {
   "cell_type": "code",
   "execution_count": null,
   "metadata": {},
   "outputs": [],
   "source": [
    "@app.route(\"/white\", methods= [\"GET\"])\n",
    "def whitewine():\n",
    "    return render_template(\"whiteparameter.html\")"
   ]
  },
  {
   "cell_type": "code",
   "execution_count": null,
   "metadata": {},
   "outputs": [],
   "source": [
    "@app.route(\"/whitewinepredict\", methods= [\"POST\"])\n",
    "def whitewinepredict():\n",
    "    default_name = 0\n",
    "    a = request.form.get('a', default_name)\n",
    "    b = request.form.get('b', default_name)\n",
    "    c = request.form.get('c', default_name)\n",
    "    d = request.form.get('d', default_name)\n",
    "    e = request.form.get('e', default_name)\n",
    "    f = request.form.get('f', default_name)\n",
    "    g = request.form.get('g', default_name)\n",
    "    h = request.form.get('h', default_name)\n",
    "    \n",
    "    inp = np.array([[a,b,c,d,e,f,g,h]])\n",
    "\n",
    "#     Applying Standard scaling to get optimized result\n",
    "    \n",
    "#     inp = scalerwhite.transform(inp)\n",
    "    \n",
    "    prediction = modelwhite.predict(inp)\n",
    "    return render_template(\"prediction.html\",quality = quality[int(prediction)])\n",
    "    \n"
   ]
  },
  {
   "cell_type": "code",
   "execution_count": null,
   "metadata": {},
   "outputs": [
    {
     "name": "stdout",
     "output_type": "stream",
     "text": [
      " * Serving Flask app \"__main__\" (lazy loading)\n",
      " * Environment: production\n",
      "   WARNING: Do not use the development server in a production environment.\n",
      "   Use a production WSGI server instead.\n",
      " * Debug mode: off\n"
     ]
    },
    {
     "name": "stderr",
     "output_type": "stream",
     "text": [
      " * Running on http://0.0.0.0:9000/ (Press CTRL+C to quit)\n",
      "127.0.0.1 - - [17/Jul/2019 08:41:59] \"GET / HTTP/1.1\" 200 -\n",
      "127.0.0.1 - - [17/Jul/2019 08:42:02] \"POST / HTTP/1.1\" 200 -\n",
      "127.0.0.1 - - [17/Jul/2019 08:42:03] \"GET /red HTTP/1.1\" 200 -\n",
      "127.0.0.1 - - [17/Jul/2019 08:42:19] \"POST /redwinepredict HTTP/1.1\" 200 -\n"
     ]
    },
    {
     "name": "stdout",
     "output_type": "stream",
     "text": [
      "INPUT :  [['2' '2' '2' '2' '2' '2' '2']]\n",
      "[1]\n"
     ]
    },
    {
     "name": "stderr",
     "output_type": "stream",
     "text": [
      "127.0.0.1 - - [17/Jul/2019 08:43:26] \"POST /redwinepredict HTTP/1.1\" 200 -\n"
     ]
    },
    {
     "name": "stdout",
     "output_type": "stream",
     "text": [
      "INPUT :  [['6.3' '1.020' '2' '24' '3.59' '0.55' '11.2']]\n",
      "[1]\n"
     ]
    },
    {
     "name": "stderr",
     "output_type": "stream",
     "text": [
      "127.0.0.1 - - [18/Jul/2019 16:53:36] \"POST /redwinepredict HTTP/1.1\" 200 -\n"
     ]
    },
    {
     "name": "stdout",
     "output_type": "stream",
     "text": [
      "INPUT :  [['6.3' '1.020' '2' '24' '3.59' '0.55' '11.2']]\n",
      "[1]\n"
     ]
    }
   ],
   "source": [
    "if __name__ == \"__main__\":\n",
    "    app.run(host=\"0.0.0.0\",port=\"9000\")"
   ]
  },
  {
   "cell_type": "code",
   "execution_count": null,
   "metadata": {},
   "outputs": [],
   "source": [
    "#  testing outa\n",
    "# tex = np.array([[1,2,3,4,5,6,5,6,7,4,5]])\n",
    "# model.predict(tex)"
   ]
  },
  {
   "cell_type": "code",
   "execution_count": null,
   "metadata": {},
   "outputs": [],
   "source": [
    "# sc = StandardScaler()\n",
    "# tex_norm = sc.fit_transform(tex)"
   ]
  },
  {
   "cell_type": "code",
   "execution_count": null,
   "metadata": {},
   "outputs": [],
   "source": [
    "\n",
    "\n"
   ]
  }
 ],
 "metadata": {
  "kernelspec": {
   "display_name": "Python 3",
   "language": "python",
   "name": "python3"
  },
  "language_info": {
   "codemirror_mode": {
    "name": "ipython",
    "version": 3
   },
   "file_extension": ".py",
   "mimetype": "text/x-python",
   "name": "python",
   "nbconvert_exporter": "python",
   "pygments_lexer": "ipython3",
   "version": "3.7.3"
  }
 },
 "nbformat": 4,
 "nbformat_minor": 2
}
